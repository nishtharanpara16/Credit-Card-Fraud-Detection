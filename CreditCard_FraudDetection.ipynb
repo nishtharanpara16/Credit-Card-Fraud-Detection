{
  "cells": [
    {
      "cell_type": "code",
      "execution_count": null,
      "metadata": {
        "id": "990b3adc"
      },
      "outputs": [],
      "source": [
        "import pandas as pd\n",
        "import numpy as np\n",
        "import matplotlib.pyplot as plt\n",
        "from matplotlib import gridspec\n",
        "import seaborn as sns\n",
        "from sklearn.preprocessing import StandardScaler\n",
        "sns.set(style=\"darkgrid\")\n",
        "from sklearn import preprocessing\n",
        "from sklearn import utils\n",
        "from sklearn.metrics import accuracy_score, precision_score, recall_score, f1_score\n",
        "\n",
        "%matplotlib inline\n",
        "import warnings\n",
        "warnings.filterwarnings('ignore')"
      ],
      "id": "990b3adc"
    },
    {
      "cell_type": "markdown",
      "metadata": {
        "id": "b30b7ecd"
      },
      "source": [
        "### Input Dataset"
      ],
      "id": "b30b7ecd"
    },
    {
      "cell_type": "code",
      "execution_count": null,
      "metadata": {
        "id": "2ba549b7"
      },
      "outputs": [],
      "source": [
        "df = pd.read_csv('/content/drive/MyDrive/Capstone Project/creditcard.csv')\n"
      ],
      "id": "2ba549b7"
    },
    {
      "cell_type": "markdown",
      "metadata": {
        "id": "e5aacc03"
      },
      "source": [
        "### EDA"
      ],
      "id": "e5aacc03"
    },
    {
      "cell_type": "code",
      "execution_count": null,
      "metadata": {
        "colab": {
          "base_uri": "https://localhost:8080/",
          "height": 300
        },
        "id": "c4ba9c62",
        "outputId": "52aa4f7d-3450-47f9-a64b-a72e3bae0c42"
      },
      "outputs": [
        {
          "data": {
            "text/html": [
              "\n",
              "  <div id=\"df-8b65dcd6-2bbe-4669-9350-d10306688600\">\n",
              "    <div class=\"colab-df-container\">\n",
              "      <div>\n",
              "<style scoped>\n",
              "    .dataframe tbody tr th:only-of-type {\n",
              "        vertical-align: middle;\n",
              "    }\n",
              "\n",
              "    .dataframe tbody tr th {\n",
              "        vertical-align: top;\n",
              "    }\n",
              "\n",
              "    .dataframe thead th {\n",
              "        text-align: right;\n",
              "    }\n",
              "</style>\n",
              "<table border=\"1\" class=\"dataframe\">\n",
              "  <thead>\n",
              "    <tr style=\"text-align: right;\">\n",
              "      <th></th>\n",
              "      <th>Time</th>\n",
              "      <th>V1</th>\n",
              "      <th>V2</th>\n",
              "      <th>V3</th>\n",
              "      <th>V4</th>\n",
              "      <th>V5</th>\n",
              "      <th>V6</th>\n",
              "      <th>V7</th>\n",
              "      <th>V8</th>\n",
              "      <th>V9</th>\n",
              "      <th>...</th>\n",
              "      <th>V21</th>\n",
              "      <th>V22</th>\n",
              "      <th>V23</th>\n",
              "      <th>V24</th>\n",
              "      <th>V25</th>\n",
              "      <th>V26</th>\n",
              "      <th>V27</th>\n",
              "      <th>V28</th>\n",
              "      <th>Amount</th>\n",
              "      <th>Class</th>\n",
              "    </tr>\n",
              "  </thead>\n",
              "  <tbody>\n",
              "    <tr>\n",
              "      <th>0</th>\n",
              "      <td>0.0</td>\n",
              "      <td>-1.359807</td>\n",
              "      <td>-0.072781</td>\n",
              "      <td>2.536347</td>\n",
              "      <td>1.378155</td>\n",
              "      <td>-0.338321</td>\n",
              "      <td>0.462388</td>\n",
              "      <td>0.239599</td>\n",
              "      <td>0.098698</td>\n",
              "      <td>0.363787</td>\n",
              "      <td>...</td>\n",
              "      <td>-0.018307</td>\n",
              "      <td>0.277838</td>\n",
              "      <td>-0.110474</td>\n",
              "      <td>0.066928</td>\n",
              "      <td>0.128539</td>\n",
              "      <td>-0.189115</td>\n",
              "      <td>0.133558</td>\n",
              "      <td>-0.021053</td>\n",
              "      <td>149.62</td>\n",
              "      <td>0</td>\n",
              "    </tr>\n",
              "    <tr>\n",
              "      <th>1</th>\n",
              "      <td>0.0</td>\n",
              "      <td>1.191857</td>\n",
              "      <td>0.266151</td>\n",
              "      <td>0.166480</td>\n",
              "      <td>0.448154</td>\n",
              "      <td>0.060018</td>\n",
              "      <td>-0.082361</td>\n",
              "      <td>-0.078803</td>\n",
              "      <td>0.085102</td>\n",
              "      <td>-0.255425</td>\n",
              "      <td>...</td>\n",
              "      <td>-0.225775</td>\n",
              "      <td>-0.638672</td>\n",
              "      <td>0.101288</td>\n",
              "      <td>-0.339846</td>\n",
              "      <td>0.167170</td>\n",
              "      <td>0.125895</td>\n",
              "      <td>-0.008983</td>\n",
              "      <td>0.014724</td>\n",
              "      <td>2.69</td>\n",
              "      <td>0</td>\n",
              "    </tr>\n",
              "    <tr>\n",
              "      <th>2</th>\n",
              "      <td>1.0</td>\n",
              "      <td>-1.358354</td>\n",
              "      <td>-1.340163</td>\n",
              "      <td>1.773209</td>\n",
              "      <td>0.379780</td>\n",
              "      <td>-0.503198</td>\n",
              "      <td>1.800499</td>\n",
              "      <td>0.791461</td>\n",
              "      <td>0.247676</td>\n",
              "      <td>-1.514654</td>\n",
              "      <td>...</td>\n",
              "      <td>0.247998</td>\n",
              "      <td>0.771679</td>\n",
              "      <td>0.909412</td>\n",
              "      <td>-0.689281</td>\n",
              "      <td>-0.327642</td>\n",
              "      <td>-0.139097</td>\n",
              "      <td>-0.055353</td>\n",
              "      <td>-0.059752</td>\n",
              "      <td>378.66</td>\n",
              "      <td>0</td>\n",
              "    </tr>\n",
              "    <tr>\n",
              "      <th>3</th>\n",
              "      <td>1.0</td>\n",
              "      <td>-0.966272</td>\n",
              "      <td>-0.185226</td>\n",
              "      <td>1.792993</td>\n",
              "      <td>-0.863291</td>\n",
              "      <td>-0.010309</td>\n",
              "      <td>1.247203</td>\n",
              "      <td>0.237609</td>\n",
              "      <td>0.377436</td>\n",
              "      <td>-1.387024</td>\n",
              "      <td>...</td>\n",
              "      <td>-0.108300</td>\n",
              "      <td>0.005274</td>\n",
              "      <td>-0.190321</td>\n",
              "      <td>-1.175575</td>\n",
              "      <td>0.647376</td>\n",
              "      <td>-0.221929</td>\n",
              "      <td>0.062723</td>\n",
              "      <td>0.061458</td>\n",
              "      <td>123.50</td>\n",
              "      <td>0</td>\n",
              "    </tr>\n",
              "    <tr>\n",
              "      <th>4</th>\n",
              "      <td>2.0</td>\n",
              "      <td>-1.158233</td>\n",
              "      <td>0.877737</td>\n",
              "      <td>1.548718</td>\n",
              "      <td>0.403034</td>\n",
              "      <td>-0.407193</td>\n",
              "      <td>0.095921</td>\n",
              "      <td>0.592941</td>\n",
              "      <td>-0.270533</td>\n",
              "      <td>0.817739</td>\n",
              "      <td>...</td>\n",
              "      <td>-0.009431</td>\n",
              "      <td>0.798278</td>\n",
              "      <td>-0.137458</td>\n",
              "      <td>0.141267</td>\n",
              "      <td>-0.206010</td>\n",
              "      <td>0.502292</td>\n",
              "      <td>0.219422</td>\n",
              "      <td>0.215153</td>\n",
              "      <td>69.99</td>\n",
              "      <td>0</td>\n",
              "    </tr>\n",
              "  </tbody>\n",
              "</table>\n",
              "<p>5 rows × 31 columns</p>\n",
              "</div>\n",
              "      <button class=\"colab-df-convert\" onclick=\"convertToInteractive('df-8b65dcd6-2bbe-4669-9350-d10306688600')\"\n",
              "              title=\"Convert this dataframe to an interactive table.\"\n",
              "              style=\"display:none;\">\n",
              "        \n",
              "  <svg xmlns=\"http://www.w3.org/2000/svg\" height=\"24px\"viewBox=\"0 0 24 24\"\n",
              "       width=\"24px\">\n",
              "    <path d=\"M0 0h24v24H0V0z\" fill=\"none\"/>\n",
              "    <path d=\"M18.56 5.44l.94 2.06.94-2.06 2.06-.94-2.06-.94-.94-2.06-.94 2.06-2.06.94zm-11 1L8.5 8.5l.94-2.06 2.06-.94-2.06-.94L8.5 2.5l-.94 2.06-2.06.94zm10 10l.94 2.06.94-2.06 2.06-.94-2.06-.94-.94-2.06-.94 2.06-2.06.94z\"/><path d=\"M17.41 7.96l-1.37-1.37c-.4-.4-.92-.59-1.43-.59-.52 0-1.04.2-1.43.59L10.3 9.45l-7.72 7.72c-.78.78-.78 2.05 0 2.83L4 21.41c.39.39.9.59 1.41.59.51 0 1.02-.2 1.41-.59l7.78-7.78 2.81-2.81c.8-.78.8-2.07 0-2.86zM5.41 20L4 18.59l7.72-7.72 1.47 1.35L5.41 20z\"/>\n",
              "  </svg>\n",
              "      </button>\n",
              "      \n",
              "  <style>\n",
              "    .colab-df-container {\n",
              "      display:flex;\n",
              "      flex-wrap:wrap;\n",
              "      gap: 12px;\n",
              "    }\n",
              "\n",
              "    .colab-df-convert {\n",
              "      background-color: #E8F0FE;\n",
              "      border: none;\n",
              "      border-radius: 50%;\n",
              "      cursor: pointer;\n",
              "      display: none;\n",
              "      fill: #1967D2;\n",
              "      height: 32px;\n",
              "      padding: 0 0 0 0;\n",
              "      width: 32px;\n",
              "    }\n",
              "\n",
              "    .colab-df-convert:hover {\n",
              "      background-color: #E2EBFA;\n",
              "      box-shadow: 0px 1px 2px rgba(60, 64, 67, 0.3), 0px 1px 3px 1px rgba(60, 64, 67, 0.15);\n",
              "      fill: #174EA6;\n",
              "    }\n",
              "\n",
              "    [theme=dark] .colab-df-convert {\n",
              "      background-color: #3B4455;\n",
              "      fill: #D2E3FC;\n",
              "    }\n",
              "\n",
              "    [theme=dark] .colab-df-convert:hover {\n",
              "      background-color: #434B5C;\n",
              "      box-shadow: 0px 1px 3px 1px rgba(0, 0, 0, 0.15);\n",
              "      filter: drop-shadow(0px 1px 2px rgba(0, 0, 0, 0.3));\n",
              "      fill: #FFFFFF;\n",
              "    }\n",
              "  </style>\n",
              "\n",
              "      <script>\n",
              "        const buttonEl =\n",
              "          document.querySelector('#df-8b65dcd6-2bbe-4669-9350-d10306688600 button.colab-df-convert');\n",
              "        buttonEl.style.display =\n",
              "          google.colab.kernel.accessAllowed ? 'block' : 'none';\n",
              "\n",
              "        async function convertToInteractive(key) {\n",
              "          const element = document.querySelector('#df-8b65dcd6-2bbe-4669-9350-d10306688600');\n",
              "          const dataTable =\n",
              "            await google.colab.kernel.invokeFunction('convertToInteractive',\n",
              "                                                     [key], {});\n",
              "          if (!dataTable) return;\n",
              "\n",
              "          const docLinkHtml = 'Like what you see? Visit the ' +\n",
              "            '<a target=\"_blank\" href=https://colab.research.google.com/notebooks/data_table.ipynb>data table notebook</a>'\n",
              "            + ' to learn more about interactive tables.';\n",
              "          element.innerHTML = '';\n",
              "          dataTable['output_type'] = 'display_data';\n",
              "          await google.colab.output.renderOutput(dataTable, element);\n",
              "          const docLink = document.createElement('div');\n",
              "          docLink.innerHTML = docLinkHtml;\n",
              "          element.appendChild(docLink);\n",
              "        }\n",
              "      </script>\n",
              "    </div>\n",
              "  </div>\n",
              "  "
            ],
            "text/plain": [
              "   Time        V1        V2        V3        V4        V5        V6        V7  \\\n",
              "0   0.0 -1.359807 -0.072781  2.536347  1.378155 -0.338321  0.462388  0.239599   \n",
              "1   0.0  1.191857  0.266151  0.166480  0.448154  0.060018 -0.082361 -0.078803   \n",
              "2   1.0 -1.358354 -1.340163  1.773209  0.379780 -0.503198  1.800499  0.791461   \n",
              "3   1.0 -0.966272 -0.185226  1.792993 -0.863291 -0.010309  1.247203  0.237609   \n",
              "4   2.0 -1.158233  0.877737  1.548718  0.403034 -0.407193  0.095921  0.592941   \n",
              "\n",
              "         V8        V9  ...       V21       V22       V23       V24       V25  \\\n",
              "0  0.098698  0.363787  ... -0.018307  0.277838 -0.110474  0.066928  0.128539   \n",
              "1  0.085102 -0.255425  ... -0.225775 -0.638672  0.101288 -0.339846  0.167170   \n",
              "2  0.247676 -1.514654  ...  0.247998  0.771679  0.909412 -0.689281 -0.327642   \n",
              "3  0.377436 -1.387024  ... -0.108300  0.005274 -0.190321 -1.175575  0.647376   \n",
              "4 -0.270533  0.817739  ... -0.009431  0.798278 -0.137458  0.141267 -0.206010   \n",
              "\n",
              "        V26       V27       V28  Amount  Class  \n",
              "0 -0.189115  0.133558 -0.021053  149.62      0  \n",
              "1  0.125895 -0.008983  0.014724    2.69      0  \n",
              "2 -0.139097 -0.055353 -0.059752  378.66      0  \n",
              "3 -0.221929  0.062723  0.061458  123.50      0  \n",
              "4  0.502292  0.219422  0.215153   69.99      0  \n",
              "\n",
              "[5 rows x 31 columns]"
            ]
          },
          "execution_count": 9,
          "metadata": {},
          "output_type": "execute_result"
        }
      ],
      "source": [
        "df.head()"
      ],
      "id": "c4ba9c62"
    },
    {
      "cell_type": "code",
      "execution_count": null,
      "metadata": {
        "colab": {
          "base_uri": "https://localhost:8080/"
        },
        "id": "a4a4604e",
        "outputId": "c09217b5-b1a4-4fff-bb81-b30129f5b76d"
      },
      "outputs": [
        {
          "name": "stdout",
          "output_type": "stream",
          "text": [
            "<class 'pandas.core.frame.DataFrame'>\n",
            "RangeIndex: 284807 entries, 0 to 284806\n",
            "Data columns (total 31 columns):\n",
            " #   Column  Non-Null Count   Dtype  \n",
            "---  ------  --------------   -----  \n",
            " 0   Time    284807 non-null  float64\n",
            " 1   V1      284807 non-null  float64\n",
            " 2   V2      284807 non-null  float64\n",
            " 3   V3      284807 non-null  float64\n",
            " 4   V4      284807 non-null  float64\n",
            " 5   V5      284807 non-null  float64\n",
            " 6   V6      284807 non-null  float64\n",
            " 7   V7      284807 non-null  float64\n",
            " 8   V8      284807 non-null  float64\n",
            " 9   V9      284807 non-null  float64\n",
            " 10  V10     284807 non-null  float64\n",
            " 11  V11     284807 non-null  float64\n",
            " 12  V12     284807 non-null  float64\n",
            " 13  V13     284807 non-null  float64\n",
            " 14  V14     284807 non-null  float64\n",
            " 15  V15     284807 non-null  float64\n",
            " 16  V16     284807 non-null  float64\n",
            " 17  V17     284807 non-null  float64\n",
            " 18  V18     284807 non-null  float64\n",
            " 19  V19     284807 non-null  float64\n",
            " 20  V20     284807 non-null  float64\n",
            " 21  V21     284807 non-null  float64\n",
            " 22  V22     284807 non-null  float64\n",
            " 23  V23     284807 non-null  float64\n",
            " 24  V24     284807 non-null  float64\n",
            " 25  V25     284807 non-null  float64\n",
            " 26  V26     284807 non-null  float64\n",
            " 27  V27     284807 non-null  float64\n",
            " 28  V28     284807 non-null  float64\n",
            " 29  Amount  284807 non-null  float64\n",
            " 30  Class   284807 non-null  int64  \n",
            "dtypes: float64(30), int64(1)\n",
            "memory usage: 67.4 MB\n"
          ]
        }
      ],
      "source": [
        "df.info()"
      ],
      "id": "a4a4604e"
    },
    {
      "cell_type": "code",
      "execution_count": null,
      "metadata": {
        "colab": {
          "base_uri": "https://localhost:8080/",
          "height": 394
        },
        "id": "c7a3291f",
        "outputId": "30df03b8-3014-4c68-dd4d-790d6ab0f1b1"
      },
      "outputs": [
        {
          "data": {
            "text/html": [
              "\n",
              "  <div id=\"df-ee799eb8-d4fb-445d-8368-88bdda0d0dfd\">\n",
              "    <div class=\"colab-df-container\">\n",
              "      <div>\n",
              "<style scoped>\n",
              "    .dataframe tbody tr th:only-of-type {\n",
              "        vertical-align: middle;\n",
              "    }\n",
              "\n",
              "    .dataframe tbody tr th {\n",
              "        vertical-align: top;\n",
              "    }\n",
              "\n",
              "    .dataframe thead th {\n",
              "        text-align: right;\n",
              "    }\n",
              "</style>\n",
              "<table border=\"1\" class=\"dataframe\">\n",
              "  <thead>\n",
              "    <tr style=\"text-align: right;\">\n",
              "      <th></th>\n",
              "      <th>Time</th>\n",
              "      <th>V1</th>\n",
              "      <th>V2</th>\n",
              "      <th>V3</th>\n",
              "      <th>V4</th>\n",
              "      <th>V5</th>\n",
              "      <th>V6</th>\n",
              "      <th>V7</th>\n",
              "      <th>V8</th>\n",
              "      <th>V9</th>\n",
              "      <th>...</th>\n",
              "      <th>V21</th>\n",
              "      <th>V22</th>\n",
              "      <th>V23</th>\n",
              "      <th>V24</th>\n",
              "      <th>V25</th>\n",
              "      <th>V26</th>\n",
              "      <th>V27</th>\n",
              "      <th>V28</th>\n",
              "      <th>Amount</th>\n",
              "      <th>Class</th>\n",
              "    </tr>\n",
              "  </thead>\n",
              "  <tbody>\n",
              "    <tr>\n",
              "      <th>count</th>\n",
              "      <td>284807.000000</td>\n",
              "      <td>2.848070e+05</td>\n",
              "      <td>2.848070e+05</td>\n",
              "      <td>2.848070e+05</td>\n",
              "      <td>2.848070e+05</td>\n",
              "      <td>2.848070e+05</td>\n",
              "      <td>2.848070e+05</td>\n",
              "      <td>2.848070e+05</td>\n",
              "      <td>2.848070e+05</td>\n",
              "      <td>2.848070e+05</td>\n",
              "      <td>...</td>\n",
              "      <td>2.848070e+05</td>\n",
              "      <td>2.848070e+05</td>\n",
              "      <td>2.848070e+05</td>\n",
              "      <td>2.848070e+05</td>\n",
              "      <td>2.848070e+05</td>\n",
              "      <td>2.848070e+05</td>\n",
              "      <td>2.848070e+05</td>\n",
              "      <td>2.848070e+05</td>\n",
              "      <td>284807.000000</td>\n",
              "      <td>284807.000000</td>\n",
              "    </tr>\n",
              "    <tr>\n",
              "      <th>mean</th>\n",
              "      <td>94813.859575</td>\n",
              "      <td>1.168375e-15</td>\n",
              "      <td>3.416908e-16</td>\n",
              "      <td>-1.379537e-15</td>\n",
              "      <td>2.074095e-15</td>\n",
              "      <td>9.604066e-16</td>\n",
              "      <td>1.487313e-15</td>\n",
              "      <td>-5.556467e-16</td>\n",
              "      <td>1.213481e-16</td>\n",
              "      <td>-2.406331e-15</td>\n",
              "      <td>...</td>\n",
              "      <td>1.654067e-16</td>\n",
              "      <td>-3.568593e-16</td>\n",
              "      <td>2.578648e-16</td>\n",
              "      <td>4.473266e-15</td>\n",
              "      <td>5.340915e-16</td>\n",
              "      <td>1.683437e-15</td>\n",
              "      <td>-3.660091e-16</td>\n",
              "      <td>-1.227390e-16</td>\n",
              "      <td>88.349619</td>\n",
              "      <td>0.001727</td>\n",
              "    </tr>\n",
              "    <tr>\n",
              "      <th>std</th>\n",
              "      <td>47488.145955</td>\n",
              "      <td>1.958696e+00</td>\n",
              "      <td>1.651309e+00</td>\n",
              "      <td>1.516255e+00</td>\n",
              "      <td>1.415869e+00</td>\n",
              "      <td>1.380247e+00</td>\n",
              "      <td>1.332271e+00</td>\n",
              "      <td>1.237094e+00</td>\n",
              "      <td>1.194353e+00</td>\n",
              "      <td>1.098632e+00</td>\n",
              "      <td>...</td>\n",
              "      <td>7.345240e-01</td>\n",
              "      <td>7.257016e-01</td>\n",
              "      <td>6.244603e-01</td>\n",
              "      <td>6.056471e-01</td>\n",
              "      <td>5.212781e-01</td>\n",
              "      <td>4.822270e-01</td>\n",
              "      <td>4.036325e-01</td>\n",
              "      <td>3.300833e-01</td>\n",
              "      <td>250.120109</td>\n",
              "      <td>0.041527</td>\n",
              "    </tr>\n",
              "    <tr>\n",
              "      <th>min</th>\n",
              "      <td>0.000000</td>\n",
              "      <td>-5.640751e+01</td>\n",
              "      <td>-7.271573e+01</td>\n",
              "      <td>-4.832559e+01</td>\n",
              "      <td>-5.683171e+00</td>\n",
              "      <td>-1.137433e+02</td>\n",
              "      <td>-2.616051e+01</td>\n",
              "      <td>-4.355724e+01</td>\n",
              "      <td>-7.321672e+01</td>\n",
              "      <td>-1.343407e+01</td>\n",
              "      <td>...</td>\n",
              "      <td>-3.483038e+01</td>\n",
              "      <td>-1.093314e+01</td>\n",
              "      <td>-4.480774e+01</td>\n",
              "      <td>-2.836627e+00</td>\n",
              "      <td>-1.029540e+01</td>\n",
              "      <td>-2.604551e+00</td>\n",
              "      <td>-2.256568e+01</td>\n",
              "      <td>-1.543008e+01</td>\n",
              "      <td>0.000000</td>\n",
              "      <td>0.000000</td>\n",
              "    </tr>\n",
              "    <tr>\n",
              "      <th>25%</th>\n",
              "      <td>54201.500000</td>\n",
              "      <td>-9.203734e-01</td>\n",
              "      <td>-5.985499e-01</td>\n",
              "      <td>-8.903648e-01</td>\n",
              "      <td>-8.486401e-01</td>\n",
              "      <td>-6.915971e-01</td>\n",
              "      <td>-7.682956e-01</td>\n",
              "      <td>-5.540759e-01</td>\n",
              "      <td>-2.086297e-01</td>\n",
              "      <td>-6.430976e-01</td>\n",
              "      <td>...</td>\n",
              "      <td>-2.283949e-01</td>\n",
              "      <td>-5.423504e-01</td>\n",
              "      <td>-1.618463e-01</td>\n",
              "      <td>-3.545861e-01</td>\n",
              "      <td>-3.171451e-01</td>\n",
              "      <td>-3.269839e-01</td>\n",
              "      <td>-7.083953e-02</td>\n",
              "      <td>-5.295979e-02</td>\n",
              "      <td>5.600000</td>\n",
              "      <td>0.000000</td>\n",
              "    </tr>\n",
              "    <tr>\n",
              "      <th>50%</th>\n",
              "      <td>84692.000000</td>\n",
              "      <td>1.810880e-02</td>\n",
              "      <td>6.548556e-02</td>\n",
              "      <td>1.798463e-01</td>\n",
              "      <td>-1.984653e-02</td>\n",
              "      <td>-5.433583e-02</td>\n",
              "      <td>-2.741871e-01</td>\n",
              "      <td>4.010308e-02</td>\n",
              "      <td>2.235804e-02</td>\n",
              "      <td>-5.142873e-02</td>\n",
              "      <td>...</td>\n",
              "      <td>-2.945017e-02</td>\n",
              "      <td>6.781943e-03</td>\n",
              "      <td>-1.119293e-02</td>\n",
              "      <td>4.097606e-02</td>\n",
              "      <td>1.659350e-02</td>\n",
              "      <td>-5.213911e-02</td>\n",
              "      <td>1.342146e-03</td>\n",
              "      <td>1.124383e-02</td>\n",
              "      <td>22.000000</td>\n",
              "      <td>0.000000</td>\n",
              "    </tr>\n",
              "    <tr>\n",
              "      <th>75%</th>\n",
              "      <td>139320.500000</td>\n",
              "      <td>1.315642e+00</td>\n",
              "      <td>8.037239e-01</td>\n",
              "      <td>1.027196e+00</td>\n",
              "      <td>7.433413e-01</td>\n",
              "      <td>6.119264e-01</td>\n",
              "      <td>3.985649e-01</td>\n",
              "      <td>5.704361e-01</td>\n",
              "      <td>3.273459e-01</td>\n",
              "      <td>5.971390e-01</td>\n",
              "      <td>...</td>\n",
              "      <td>1.863772e-01</td>\n",
              "      <td>5.285536e-01</td>\n",
              "      <td>1.476421e-01</td>\n",
              "      <td>4.395266e-01</td>\n",
              "      <td>3.507156e-01</td>\n",
              "      <td>2.409522e-01</td>\n",
              "      <td>9.104512e-02</td>\n",
              "      <td>7.827995e-02</td>\n",
              "      <td>77.165000</td>\n",
              "      <td>0.000000</td>\n",
              "    </tr>\n",
              "    <tr>\n",
              "      <th>max</th>\n",
              "      <td>172792.000000</td>\n",
              "      <td>2.454930e+00</td>\n",
              "      <td>2.205773e+01</td>\n",
              "      <td>9.382558e+00</td>\n",
              "      <td>1.687534e+01</td>\n",
              "      <td>3.480167e+01</td>\n",
              "      <td>7.330163e+01</td>\n",
              "      <td>1.205895e+02</td>\n",
              "      <td>2.000721e+01</td>\n",
              "      <td>1.559499e+01</td>\n",
              "      <td>...</td>\n",
              "      <td>2.720284e+01</td>\n",
              "      <td>1.050309e+01</td>\n",
              "      <td>2.252841e+01</td>\n",
              "      <td>4.584549e+00</td>\n",
              "      <td>7.519589e+00</td>\n",
              "      <td>3.517346e+00</td>\n",
              "      <td>3.161220e+01</td>\n",
              "      <td>3.384781e+01</td>\n",
              "      <td>25691.160000</td>\n",
              "      <td>1.000000</td>\n",
              "    </tr>\n",
              "  </tbody>\n",
              "</table>\n",
              "<p>8 rows × 31 columns</p>\n",
              "</div>\n",
              "      <button class=\"colab-df-convert\" onclick=\"convertToInteractive('df-ee799eb8-d4fb-445d-8368-88bdda0d0dfd')\"\n",
              "              title=\"Convert this dataframe to an interactive table.\"\n",
              "              style=\"display:none;\">\n",
              "        \n",
              "  <svg xmlns=\"http://www.w3.org/2000/svg\" height=\"24px\"viewBox=\"0 0 24 24\"\n",
              "       width=\"24px\">\n",
              "    <path d=\"M0 0h24v24H0V0z\" fill=\"none\"/>\n",
              "    <path d=\"M18.56 5.44l.94 2.06.94-2.06 2.06-.94-2.06-.94-.94-2.06-.94 2.06-2.06.94zm-11 1L8.5 8.5l.94-2.06 2.06-.94-2.06-.94L8.5 2.5l-.94 2.06-2.06.94zm10 10l.94 2.06.94-2.06 2.06-.94-2.06-.94-.94-2.06-.94 2.06-2.06.94z\"/><path d=\"M17.41 7.96l-1.37-1.37c-.4-.4-.92-.59-1.43-.59-.52 0-1.04.2-1.43.59L10.3 9.45l-7.72 7.72c-.78.78-.78 2.05 0 2.83L4 21.41c.39.39.9.59 1.41.59.51 0 1.02-.2 1.41-.59l7.78-7.78 2.81-2.81c.8-.78.8-2.07 0-2.86zM5.41 20L4 18.59l7.72-7.72 1.47 1.35L5.41 20z\"/>\n",
              "  </svg>\n",
              "      </button>\n",
              "      \n",
              "  <style>\n",
              "    .colab-df-container {\n",
              "      display:flex;\n",
              "      flex-wrap:wrap;\n",
              "      gap: 12px;\n",
              "    }\n",
              "\n",
              "    .colab-df-convert {\n",
              "      background-color: #E8F0FE;\n",
              "      border: none;\n",
              "      border-radius: 50%;\n",
              "      cursor: pointer;\n",
              "      display: none;\n",
              "      fill: #1967D2;\n",
              "      height: 32px;\n",
              "      padding: 0 0 0 0;\n",
              "      width: 32px;\n",
              "    }\n",
              "\n",
              "    .colab-df-convert:hover {\n",
              "      background-color: #E2EBFA;\n",
              "      box-shadow: 0px 1px 2px rgba(60, 64, 67, 0.3), 0px 1px 3px 1px rgba(60, 64, 67, 0.15);\n",
              "      fill: #174EA6;\n",
              "    }\n",
              "\n",
              "    [theme=dark] .colab-df-convert {\n",
              "      background-color: #3B4455;\n",
              "      fill: #D2E3FC;\n",
              "    }\n",
              "\n",
              "    [theme=dark] .colab-df-convert:hover {\n",
              "      background-color: #434B5C;\n",
              "      box-shadow: 0px 1px 3px 1px rgba(0, 0, 0, 0.15);\n",
              "      filter: drop-shadow(0px 1px 2px rgba(0, 0, 0, 0.3));\n",
              "      fill: #FFFFFF;\n",
              "    }\n",
              "  </style>\n",
              "\n",
              "      <script>\n",
              "        const buttonEl =\n",
              "          document.querySelector('#df-ee799eb8-d4fb-445d-8368-88bdda0d0dfd button.colab-df-convert');\n",
              "        buttonEl.style.display =\n",
              "          google.colab.kernel.accessAllowed ? 'block' : 'none';\n",
              "\n",
              "        async function convertToInteractive(key) {\n",
              "          const element = document.querySelector('#df-ee799eb8-d4fb-445d-8368-88bdda0d0dfd');\n",
              "          const dataTable =\n",
              "            await google.colab.kernel.invokeFunction('convertToInteractive',\n",
              "                                                     [key], {});\n",
              "          if (!dataTable) return;\n",
              "\n",
              "          const docLinkHtml = 'Like what you see? Visit the ' +\n",
              "            '<a target=\"_blank\" href=https://colab.research.google.com/notebooks/data_table.ipynb>data table notebook</a>'\n",
              "            + ' to learn more about interactive tables.';\n",
              "          element.innerHTML = '';\n",
              "          dataTable['output_type'] = 'display_data';\n",
              "          await google.colab.output.renderOutput(dataTable, element);\n",
              "          const docLink = document.createElement('div');\n",
              "          docLink.innerHTML = docLinkHtml;\n",
              "          element.appendChild(docLink);\n",
              "        }\n",
              "      </script>\n",
              "    </div>\n",
              "  </div>\n",
              "  "
            ],
            "text/plain": [
              "                Time            V1            V2            V3            V4  \\\n",
              "count  284807.000000  2.848070e+05  2.848070e+05  2.848070e+05  2.848070e+05   \n",
              "mean    94813.859575  1.168375e-15  3.416908e-16 -1.379537e-15  2.074095e-15   \n",
              "std     47488.145955  1.958696e+00  1.651309e+00  1.516255e+00  1.415869e+00   \n",
              "min         0.000000 -5.640751e+01 -7.271573e+01 -4.832559e+01 -5.683171e+00   \n",
              "25%     54201.500000 -9.203734e-01 -5.985499e-01 -8.903648e-01 -8.486401e-01   \n",
              "50%     84692.000000  1.810880e-02  6.548556e-02  1.798463e-01 -1.984653e-02   \n",
              "75%    139320.500000  1.315642e+00  8.037239e-01  1.027196e+00  7.433413e-01   \n",
              "max    172792.000000  2.454930e+00  2.205773e+01  9.382558e+00  1.687534e+01   \n",
              "\n",
              "                 V5            V6            V7            V8            V9  \\\n",
              "count  2.848070e+05  2.848070e+05  2.848070e+05  2.848070e+05  2.848070e+05   \n",
              "mean   9.604066e-16  1.487313e-15 -5.556467e-16  1.213481e-16 -2.406331e-15   \n",
              "std    1.380247e+00  1.332271e+00  1.237094e+00  1.194353e+00  1.098632e+00   \n",
              "min   -1.137433e+02 -2.616051e+01 -4.355724e+01 -7.321672e+01 -1.343407e+01   \n",
              "25%   -6.915971e-01 -7.682956e-01 -5.540759e-01 -2.086297e-01 -6.430976e-01   \n",
              "50%   -5.433583e-02 -2.741871e-01  4.010308e-02  2.235804e-02 -5.142873e-02   \n",
              "75%    6.119264e-01  3.985649e-01  5.704361e-01  3.273459e-01  5.971390e-01   \n",
              "max    3.480167e+01  7.330163e+01  1.205895e+02  2.000721e+01  1.559499e+01   \n",
              "\n",
              "       ...           V21           V22           V23           V24  \\\n",
              "count  ...  2.848070e+05  2.848070e+05  2.848070e+05  2.848070e+05   \n",
              "mean   ...  1.654067e-16 -3.568593e-16  2.578648e-16  4.473266e-15   \n",
              "std    ...  7.345240e-01  7.257016e-01  6.244603e-01  6.056471e-01   \n",
              "min    ... -3.483038e+01 -1.093314e+01 -4.480774e+01 -2.836627e+00   \n",
              "25%    ... -2.283949e-01 -5.423504e-01 -1.618463e-01 -3.545861e-01   \n",
              "50%    ... -2.945017e-02  6.781943e-03 -1.119293e-02  4.097606e-02   \n",
              "75%    ...  1.863772e-01  5.285536e-01  1.476421e-01  4.395266e-01   \n",
              "max    ...  2.720284e+01  1.050309e+01  2.252841e+01  4.584549e+00   \n",
              "\n",
              "                V25           V26           V27           V28         Amount  \\\n",
              "count  2.848070e+05  2.848070e+05  2.848070e+05  2.848070e+05  284807.000000   \n",
              "mean   5.340915e-16  1.683437e-15 -3.660091e-16 -1.227390e-16      88.349619   \n",
              "std    5.212781e-01  4.822270e-01  4.036325e-01  3.300833e-01     250.120109   \n",
              "min   -1.029540e+01 -2.604551e+00 -2.256568e+01 -1.543008e+01       0.000000   \n",
              "25%   -3.171451e-01 -3.269839e-01 -7.083953e-02 -5.295979e-02       5.600000   \n",
              "50%    1.659350e-02 -5.213911e-02  1.342146e-03  1.124383e-02      22.000000   \n",
              "75%    3.507156e-01  2.409522e-01  9.104512e-02  7.827995e-02      77.165000   \n",
              "max    7.519589e+00  3.517346e+00  3.161220e+01  3.384781e+01   25691.160000   \n",
              "\n",
              "               Class  \n",
              "count  284807.000000  \n",
              "mean        0.001727  \n",
              "std         0.041527  \n",
              "min         0.000000  \n",
              "25%         0.000000  \n",
              "50%         0.000000  \n",
              "75%         0.000000  \n",
              "max         1.000000  \n",
              "\n",
              "[8 rows x 31 columns]"
            ]
          },
          "execution_count": 11,
          "metadata": {},
          "output_type": "execute_result"
        }
      ],
      "source": [
        "df.describe()"
      ],
      "id": "c7a3291f"
    },
    {
      "cell_type": "code",
      "execution_count": null,
      "metadata": {
        "colab": {
          "base_uri": "https://localhost:8080/"
        },
        "id": "b0363f6e",
        "outputId": "09f6ca80-dea7-4ce4-a76d-da140a716a79"
      },
      "outputs": [
        {
          "name": "stdout",
          "output_type": "stream",
          "text": [
            "Fraud classes Fraction: 0.0017304750013189597\n",
            "Fraud Cases: 492\n",
            "Valid Transactions: 284315\n"
          ]
        }
      ],
      "source": [
        "Fraud = df[df['Class'] == 1]\n",
        "Valid = df[df['Class'] == 0]\n",
        "\n",
        "outlier_fraction = len(Fraud)/float(len(Valid))\n",
        "print('Fraud classes Fraction: {}'.format(outlier_fraction))\n",
        "\n",
        "print('Fraud Cases: {}'.format(len(df[df['Class'] == 1])))\n",
        "print('Valid Transactions: {}'.format(len(df[df['Class'] == 0])))"
      ],
      "id": "b0363f6e"
    },
    {
      "cell_type": "code",
      "execution_count": null,
      "metadata": {
        "colab": {
          "base_uri": "https://localhost:8080/"
        },
        "id": "e9469d63",
        "outputId": "2bee6dcf-f1de-495a-889c-8e0641101446"
      },
      "outputs": [
        {
          "name": "stdout",
          "output_type": "stream",
          "text": [
            "Amount details of the fraudulent transaction\n"
          ]
        },
        {
          "data": {
            "text/plain": [
              "count     492.000000\n",
              "mean      122.211321\n",
              "std       256.683288\n",
              "min         0.000000\n",
              "25%         1.000000\n",
              "50%         9.250000\n",
              "75%       105.890000\n",
              "max      2125.870000\n",
              "Name: Amount, dtype: float64"
            ]
          },
          "execution_count": 14,
          "metadata": {},
          "output_type": "execute_result"
        }
      ],
      "source": [
        "# Code : Print the amount details for Fraudulent Transaction\n",
        "\n",
        "print(\"Amount details of the fraudulent transaction\")\n",
        "Fraud.Amount.describe()"
      ],
      "id": "e9469d63"
    },
    {
      "cell_type": "code",
      "execution_count": null,
      "metadata": {
        "colab": {
          "base_uri": "https://localhost:8080/"
        },
        "id": "e13761c0",
        "outputId": "673bdfc4-4090-44c8-ec0b-e26bfab4fbce"
      },
      "outputs": [
        {
          "name": "stdout",
          "output_type": "stream",
          "text": [
            "Amount details of the valid transaction\n"
          ]
        },
        {
          "data": {
            "text/plain": [
              "count    284315.000000\n",
              "mean         88.291022\n",
              "std         250.105092\n",
              "min           0.000000\n",
              "25%           5.650000\n",
              "50%          22.000000\n",
              "75%          77.050000\n",
              "max       25691.160000\n",
              "Name: Amount, dtype: float64"
            ]
          },
          "execution_count": 15,
          "metadata": {},
          "output_type": "execute_result"
        }
      ],
      "source": [
        "print(\"Amount details of the valid transaction\")\n",
        "Valid.Amount.describe()"
      ],
      "id": "e13761c0"
    },
    {
      "cell_type": "code",
      "execution_count": null,
      "metadata": {
        "colab": {
          "base_uri": "https://localhost:8080/",
          "height": 386
        },
        "id": "77bab421",
        "outputId": "7f8dbac7-3490-4a07-dc3d-693c2472f0c1"
      },
      "outputs": [
        {
          "data": {
            "text/html": [
              "\n",
              "  <div id=\"df-0198314b-a2d2-4856-9451-c7328cfd7fa8\">\n",
              "    <div class=\"colab-df-container\">\n",
              "      <div>\n",
              "<style scoped>\n",
              "    .dataframe tbody tr th:only-of-type {\n",
              "        vertical-align: middle;\n",
              "    }\n",
              "\n",
              "    .dataframe tbody tr th {\n",
              "        vertical-align: top;\n",
              "    }\n",
              "\n",
              "    .dataframe thead th {\n",
              "        text-align: right;\n",
              "    }\n",
              "</style>\n",
              "<table border=\"1\" class=\"dataframe\">\n",
              "  <thead>\n",
              "    <tr style=\"text-align: right;\">\n",
              "      <th></th>\n",
              "      <th>Time</th>\n",
              "      <th>V1</th>\n",
              "      <th>V2</th>\n",
              "      <th>V3</th>\n",
              "      <th>V4</th>\n",
              "      <th>V5</th>\n",
              "      <th>V6</th>\n",
              "      <th>V7</th>\n",
              "      <th>V8</th>\n",
              "      <th>V9</th>\n",
              "      <th>...</th>\n",
              "      <th>V21</th>\n",
              "      <th>V22</th>\n",
              "      <th>V23</th>\n",
              "      <th>V24</th>\n",
              "      <th>V25</th>\n",
              "      <th>V26</th>\n",
              "      <th>V27</th>\n",
              "      <th>V28</th>\n",
              "      <th>Amount</th>\n",
              "      <th>Class</th>\n",
              "    </tr>\n",
              "  </thead>\n",
              "  <tbody>\n",
              "    <tr>\n",
              "      <th>Time</th>\n",
              "      <td>1.000000</td>\n",
              "      <td>1.173963e-01</td>\n",
              "      <td>-1.059333e-02</td>\n",
              "      <td>-4.196182e-01</td>\n",
              "      <td>-1.052602e-01</td>\n",
              "      <td>1.730721e-01</td>\n",
              "      <td>-6.301647e-02</td>\n",
              "      <td>8.471437e-02</td>\n",
              "      <td>-3.694943e-02</td>\n",
              "      <td>-8.660434e-03</td>\n",
              "      <td>...</td>\n",
              "      <td>4.473573e-02</td>\n",
              "      <td>1.440591e-01</td>\n",
              "      <td>5.114236e-02</td>\n",
              "      <td>-1.618187e-02</td>\n",
              "      <td>-2.330828e-01</td>\n",
              "      <td>-4.140710e-02</td>\n",
              "      <td>-5.134591e-03</td>\n",
              "      <td>-9.412688e-03</td>\n",
              "      <td>-0.010596</td>\n",
              "      <td>-0.012323</td>\n",
              "    </tr>\n",
              "    <tr>\n",
              "      <th>V1</th>\n",
              "      <td>0.117396</td>\n",
              "      <td>1.000000e+00</td>\n",
              "      <td>4.135835e-16</td>\n",
              "      <td>-1.227819e-15</td>\n",
              "      <td>-9.215150e-16</td>\n",
              "      <td>1.812612e-17</td>\n",
              "      <td>-6.506567e-16</td>\n",
              "      <td>-1.005191e-15</td>\n",
              "      <td>-2.433822e-16</td>\n",
              "      <td>-1.513678e-16</td>\n",
              "      <td>...</td>\n",
              "      <td>-2.457409e-16</td>\n",
              "      <td>-4.290944e-16</td>\n",
              "      <td>6.168652e-16</td>\n",
              "      <td>-4.425156e-17</td>\n",
              "      <td>-9.605737e-16</td>\n",
              "      <td>-1.581290e-17</td>\n",
              "      <td>1.198124e-16</td>\n",
              "      <td>2.083082e-15</td>\n",
              "      <td>-0.227709</td>\n",
              "      <td>-0.101347</td>\n",
              "    </tr>\n",
              "    <tr>\n",
              "      <th>V2</th>\n",
              "      <td>-0.010593</td>\n",
              "      <td>4.135835e-16</td>\n",
              "      <td>1.000000e+00</td>\n",
              "      <td>3.243764e-16</td>\n",
              "      <td>-1.121065e-15</td>\n",
              "      <td>5.157519e-16</td>\n",
              "      <td>2.787346e-16</td>\n",
              "      <td>2.055934e-16</td>\n",
              "      <td>-5.377041e-17</td>\n",
              "      <td>1.978488e-17</td>\n",
              "      <td>...</td>\n",
              "      <td>-8.480447e-17</td>\n",
              "      <td>1.526333e-16</td>\n",
              "      <td>1.634231e-16</td>\n",
              "      <td>1.247925e-17</td>\n",
              "      <td>-4.478846e-16</td>\n",
              "      <td>2.057310e-16</td>\n",
              "      <td>-4.966953e-16</td>\n",
              "      <td>-5.093836e-16</td>\n",
              "      <td>-0.531409</td>\n",
              "      <td>0.091289</td>\n",
              "    </tr>\n",
              "    <tr>\n",
              "      <th>V3</th>\n",
              "      <td>-0.419618</td>\n",
              "      <td>-1.227819e-15</td>\n",
              "      <td>3.243764e-16</td>\n",
              "      <td>1.000000e+00</td>\n",
              "      <td>4.711293e-16</td>\n",
              "      <td>-6.539009e-17</td>\n",
              "      <td>1.627627e-15</td>\n",
              "      <td>4.895305e-16</td>\n",
              "      <td>-1.268779e-15</td>\n",
              "      <td>5.568367e-16</td>\n",
              "      <td>...</td>\n",
              "      <td>5.706192e-17</td>\n",
              "      <td>-1.133902e-15</td>\n",
              "      <td>-4.983035e-16</td>\n",
              "      <td>2.686834e-19</td>\n",
              "      <td>-1.104734e-15</td>\n",
              "      <td>-1.238062e-16</td>\n",
              "      <td>1.045747e-15</td>\n",
              "      <td>9.775546e-16</td>\n",
              "      <td>-0.210880</td>\n",
              "      <td>-0.192961</td>\n",
              "    </tr>\n",
              "    <tr>\n",
              "      <th>V4</th>\n",
              "      <td>-0.105260</td>\n",
              "      <td>-9.215150e-16</td>\n",
              "      <td>-1.121065e-15</td>\n",
              "      <td>4.711293e-16</td>\n",
              "      <td>1.000000e+00</td>\n",
              "      <td>-1.719944e-15</td>\n",
              "      <td>-7.491959e-16</td>\n",
              "      <td>-4.104503e-16</td>\n",
              "      <td>5.697192e-16</td>\n",
              "      <td>6.923247e-16</td>\n",
              "      <td>...</td>\n",
              "      <td>-1.949553e-16</td>\n",
              "      <td>-6.276051e-17</td>\n",
              "      <td>9.164206e-17</td>\n",
              "      <td>1.584638e-16</td>\n",
              "      <td>6.070716e-16</td>\n",
              "      <td>-4.247268e-16</td>\n",
              "      <td>3.977061e-17</td>\n",
              "      <td>-2.761403e-18</td>\n",
              "      <td>0.098732</td>\n",
              "      <td>0.133447</td>\n",
              "    </tr>\n",
              "  </tbody>\n",
              "</table>\n",
              "<p>5 rows × 31 columns</p>\n",
              "</div>\n",
              "      <button class=\"colab-df-convert\" onclick=\"convertToInteractive('df-0198314b-a2d2-4856-9451-c7328cfd7fa8')\"\n",
              "              title=\"Convert this dataframe to an interactive table.\"\n",
              "              style=\"display:none;\">\n",
              "        \n",
              "  <svg xmlns=\"http://www.w3.org/2000/svg\" height=\"24px\"viewBox=\"0 0 24 24\"\n",
              "       width=\"24px\">\n",
              "    <path d=\"M0 0h24v24H0V0z\" fill=\"none\"/>\n",
              "    <path d=\"M18.56 5.44l.94 2.06.94-2.06 2.06-.94-2.06-.94-.94-2.06-.94 2.06-2.06.94zm-11 1L8.5 8.5l.94-2.06 2.06-.94-2.06-.94L8.5 2.5l-.94 2.06-2.06.94zm10 10l.94 2.06.94-2.06 2.06-.94-2.06-.94-.94-2.06-.94 2.06-2.06.94z\"/><path d=\"M17.41 7.96l-1.37-1.37c-.4-.4-.92-.59-1.43-.59-.52 0-1.04.2-1.43.59L10.3 9.45l-7.72 7.72c-.78.78-.78 2.05 0 2.83L4 21.41c.39.39.9.59 1.41.59.51 0 1.02-.2 1.41-.59l7.78-7.78 2.81-2.81c.8-.78.8-2.07 0-2.86zM5.41 20L4 18.59l7.72-7.72 1.47 1.35L5.41 20z\"/>\n",
              "  </svg>\n",
              "      </button>\n",
              "      \n",
              "  <style>\n",
              "    .colab-df-container {\n",
              "      display:flex;\n",
              "      flex-wrap:wrap;\n",
              "      gap: 12px;\n",
              "    }\n",
              "\n",
              "    .colab-df-convert {\n",
              "      background-color: #E8F0FE;\n",
              "      border: none;\n",
              "      border-radius: 50%;\n",
              "      cursor: pointer;\n",
              "      display: none;\n",
              "      fill: #1967D2;\n",
              "      height: 32px;\n",
              "      padding: 0 0 0 0;\n",
              "      width: 32px;\n",
              "    }\n",
              "\n",
              "    .colab-df-convert:hover {\n",
              "      background-color: #E2EBFA;\n",
              "      box-shadow: 0px 1px 2px rgba(60, 64, 67, 0.3), 0px 1px 3px 1px rgba(60, 64, 67, 0.15);\n",
              "      fill: #174EA6;\n",
              "    }\n",
              "\n",
              "    [theme=dark] .colab-df-convert {\n",
              "      background-color: #3B4455;\n",
              "      fill: #D2E3FC;\n",
              "    }\n",
              "\n",
              "    [theme=dark] .colab-df-convert:hover {\n",
              "      background-color: #434B5C;\n",
              "      box-shadow: 0px 1px 3px 1px rgba(0, 0, 0, 0.15);\n",
              "      filter: drop-shadow(0px 1px 2px rgba(0, 0, 0, 0.3));\n",
              "      fill: #FFFFFF;\n",
              "    }\n",
              "  </style>\n",
              "\n",
              "      <script>\n",
              "        const buttonEl =\n",
              "          document.querySelector('#df-0198314b-a2d2-4856-9451-c7328cfd7fa8 button.colab-df-convert');\n",
              "        buttonEl.style.display =\n",
              "          google.colab.kernel.accessAllowed ? 'block' : 'none';\n",
              "\n",
              "        async function convertToInteractive(key) {\n",
              "          const element = document.querySelector('#df-0198314b-a2d2-4856-9451-c7328cfd7fa8');\n",
              "          const dataTable =\n",
              "            await google.colab.kernel.invokeFunction('convertToInteractive',\n",
              "                                                     [key], {});\n",
              "          if (!dataTable) return;\n",
              "\n",
              "          const docLinkHtml = 'Like what you see? Visit the ' +\n",
              "            '<a target=\"_blank\" href=https://colab.research.google.com/notebooks/data_table.ipynb>data table notebook</a>'\n",
              "            + ' to learn more about interactive tables.';\n",
              "          element.innerHTML = '';\n",
              "          dataTable['output_type'] = 'display_data';\n",
              "          await google.colab.output.renderOutput(dataTable, element);\n",
              "          const docLink = document.createElement('div');\n",
              "          docLink.innerHTML = docLinkHtml;\n",
              "          element.appendChild(docLink);\n",
              "        }\n",
              "      </script>\n",
              "    </div>\n",
              "  </div>\n",
              "  "
            ],
            "text/plain": [
              "          Time            V1            V2            V3            V4  \\\n",
              "Time  1.000000  1.173963e-01 -1.059333e-02 -4.196182e-01 -1.052602e-01   \n",
              "V1    0.117396  1.000000e+00  4.135835e-16 -1.227819e-15 -9.215150e-16   \n",
              "V2   -0.010593  4.135835e-16  1.000000e+00  3.243764e-16 -1.121065e-15   \n",
              "V3   -0.419618 -1.227819e-15  3.243764e-16  1.000000e+00  4.711293e-16   \n",
              "V4   -0.105260 -9.215150e-16 -1.121065e-15  4.711293e-16  1.000000e+00   \n",
              "\n",
              "                V5            V6            V7            V8            V9  \\\n",
              "Time  1.730721e-01 -6.301647e-02  8.471437e-02 -3.694943e-02 -8.660434e-03   \n",
              "V1    1.812612e-17 -6.506567e-16 -1.005191e-15 -2.433822e-16 -1.513678e-16   \n",
              "V2    5.157519e-16  2.787346e-16  2.055934e-16 -5.377041e-17  1.978488e-17   \n",
              "V3   -6.539009e-17  1.627627e-15  4.895305e-16 -1.268779e-15  5.568367e-16   \n",
              "V4   -1.719944e-15 -7.491959e-16 -4.104503e-16  5.697192e-16  6.923247e-16   \n",
              "\n",
              "      ...           V21           V22           V23           V24  \\\n",
              "Time  ...  4.473573e-02  1.440591e-01  5.114236e-02 -1.618187e-02   \n",
              "V1    ... -2.457409e-16 -4.290944e-16  6.168652e-16 -4.425156e-17   \n",
              "V2    ... -8.480447e-17  1.526333e-16  1.634231e-16  1.247925e-17   \n",
              "V3    ...  5.706192e-17 -1.133902e-15 -4.983035e-16  2.686834e-19   \n",
              "V4    ... -1.949553e-16 -6.276051e-17  9.164206e-17  1.584638e-16   \n",
              "\n",
              "               V25           V26           V27           V28    Amount  \\\n",
              "Time -2.330828e-01 -4.140710e-02 -5.134591e-03 -9.412688e-03 -0.010596   \n",
              "V1   -9.605737e-16 -1.581290e-17  1.198124e-16  2.083082e-15 -0.227709   \n",
              "V2   -4.478846e-16  2.057310e-16 -4.966953e-16 -5.093836e-16 -0.531409   \n",
              "V3   -1.104734e-15 -1.238062e-16  1.045747e-15  9.775546e-16 -0.210880   \n",
              "V4    6.070716e-16 -4.247268e-16  3.977061e-17 -2.761403e-18  0.098732   \n",
              "\n",
              "         Class  \n",
              "Time -0.012323  \n",
              "V1   -0.101347  \n",
              "V2    0.091289  \n",
              "V3   -0.192961  \n",
              "V4    0.133447  \n",
              "\n",
              "[5 rows x 31 columns]"
            ]
          },
          "execution_count": 16,
          "metadata": {},
          "output_type": "execute_result"
        }
      ],
      "source": [
        "## Correlation Matrix\n",
        "sns.set(style=\"white\")\n",
        "\n",
        "# Compute the correlation matrix\n",
        "corr = df.corr()\n",
        "corr.head()"
      ],
      "id": "77bab421"
    },
    {
      "cell_type": "code",
      "execution_count": null,
      "metadata": {
        "colab": {
          "base_uri": "https://localhost:8080/",
          "height": 577
        },
        "id": "2770fa5a",
        "outputId": "9dd6e25a-d00f-4c30-8b4f-bfe163fcac31"
      },
      "outputs": [
        {
          "data": {
            "image/png": "[encoded data removed]",
            "text/plain": [
              "<Figure size 864x648 with 2 Axes>"
            ]
          },
          "metadata": {},
          "output_type": "display_data"
        }
      ],
      "source": [
        "# Correlation matrix\n",
        "corrmatrix = df.corr()\n",
        "fig = plt.figure(figsize = (12, 9))\n",
        "sns.heatmap(corrmatrix, vmax = .8, square = True)\n",
        "plt.show()"
      ],
      "id": "2770fa5a"
    },
    {
      "cell_type": "code",
      "execution_count": null,
      "metadata": {
        "colab": {
          "base_uri": "https://localhost:8080/",
          "height": 319
        },
        "id": "065e15f8",
        "outputId": "b299d53d-6e26-4152-f3e7-470f5f2e4a7c"
      },
      "outputs": [
        {
          "data": {
            "text/plain": [
              "Text(0, 0.5, 'Amount')"
            ]
          },
          "execution_count": 18,
          "metadata": {},
          "output_type": "execute_result"
        },
        {
          "data": {
            "image/png": "[encoded data removed]",
            "text/plain": [
              "<Figure size 432x288 with 1 Axes>"
            ]
          },
          "metadata": {},
          "output_type": "display_data"
        }
      ],
      "source": [
        "#Correlation between Transaction in time and Transaction amount\n",
        "y=df['Amount']\n",
        "x=df['Time']\n",
        "corr = y.corr(x)\n",
        "plt.title('Correlation')\n",
        "\n",
        "# plot the data\n",
        "plt.scatter(x, y)\n",
        " \n",
        "# fits the best fitting line to the data\n",
        "plt.plot(np.unique(x),\n",
        "         np.poly1d(np.polyfit(x, y, 1))\n",
        "         (np.unique(x)), color='red')\n",
        " \n",
        "# Labelling axes\n",
        "plt.xlabel('Time')\n",
        "plt.ylabel('Amount')"
      ],
      "id": "065e15f8"
    },
    {
      "cell_type": "code",
      "execution_count": null,
      "metadata": {
        "colab": {
          "base_uri": "https://localhost:8080/",
          "height": 542
        },
        "id": "8c629af2",
        "outputId": "ec18948a-c3b9-4f37-daa2-ee48bc8da456"
      },
      "outputs": [
        {
          "data": {
            "text/html": [
              "<html>\n",
              "<head><meta charset=\"utf-8\" /></head>\n",
              "<body>\n",
              "    <div>            <script src=\"https://cdnjs.cloudflare.com/ajax/libs/mathjax/2.7.5/MathJax.js?config=TeX-AMS-MML_SVG\"></script><script type=\"text/javascript\">if (window.MathJax) {MathJax.Hub.Config({SVG: {font: \"STIX-Web\"}});}</script>                <script type=\"text/javascript\">window.PlotlyConfig = {MathJaxConfig: 'local'};</script>\n",
              "        <script src=\"https://cdn.plot.ly/plotly-2.8.3.min.js\"></script>                <div id=\"baaf9d43-07c5-41b1-8532-a5e3abb5e299\" class=\"plotly-graph-div\" style=\"height:525px; width:100%;\"></div>            <script type=\"text/javascript\">                                    window.PLOTLYENV=window.PLOTLYENV || {};                                    if (document.getElementById(\"baaf9d43-07c5-41b1-8532-a5e3abb5e299\")) {                    Plotly.newPlot(                        \"baaf9d43-07c5-41b1-8532-a5e3abb5e299\",                        [{\"labels\":[\"0\",\"1\"],\"marker\":{\"colors\":[\"#0037FF\",\"#FF0000\"],\"line\":{\"color\":\"#000000\",\"width\":2}},\"pull\":[0.1,0,0],\"title\":{\"text\":\"Class\"},\"values\":[284315,492],\"type\":\"pie\"}],                        {\"template\":{\"data\":{\"bar\":[{\"error_x\":{\"color\":\"#2a3f5f\"},\"error_y\":{\"color\":\"#2a3f5f\"},\"marker\":{\"line\":{\"color\":\"#E5ECF6\",\"width\":0.5},\"pattern\":{\"fillmode\":\"overlay\",\"size\":10,\"solidity\":0.2}},\"type\":\"bar\"}],\"barpolar\":[{\"marker\":{\"line\":{\"color\":\"#E5ECF6\",\"width\":0.5},\"pattern\":{\"fillmode\":\"overlay\",\"size\":10,\"solidity\":0.2}},\"type\":\"barpolar\"}],\"carpet\":[{\"aaxis\":{\"endlinecolor\":\"#2a3f5f\",\"gridcolor\":\"white\",\"linecolor\":\"white\",\"minorgridcolor\":\"white\",\"startlinecolor\":\"#2a3f5f\"},\"baxis\":{\"endlinecolor\":\"#2a3f5f\",\"gridcolor\":\"white\",\"linecolor\":\"white\",\"minorgridcolor\":\"white\",\"startlinecolor\":\"#2a3f5f\"},\"type\":\"carpet\"}],\"choropleth\":[{\"colorbar\":{\"outlinewidth\":0,\"ticks\":\"\"},\"type\":\"choropleth\"}],\"contour\":[{\"colorbar\":{\"outlinewidth\":0,\"ticks\":\"\"},\"colorscale\":[[0.0,\"#0d0887\"],[0.1111111111111111,\"#46039f\"],[0.2222222222222222,\"#7201a8\"],[0.3333333333333333,\"#9c179e\"],[0.4444444444444444,\"#bd3786\"],[0.5555555555555556,\"#d8576b\"],[0.6666666666666666,\"#ed7953\"],[0.7777777777777778,\"#fb9f3a\"],[0.8888888888888888,\"#fdca26\"],[1.0,\"#f0f921\"]],\"type\":\"contour\"}],\"contourcarpet\":[{\"colorbar\":{\"outlinewidth\":0,\"ticks\":\"\"},\"type\":\"contourcarpet\"}],\"heatmap\":[{\"colorbar\":{\"outlinewidth\":0,\"ticks\":\"\"},\"colorscale\":[[0.0,\"#0d0887\"],[0.1111111111111111,\"#46039f\"],[0.2222222222222222,\"#7201a8\"],[0.3333333333333333,\"#9c179e\"],[0.4444444444444444,\"#bd3786\"],[0.5555555555555556,\"#d8576b\"],[0.6666666666666666,\"#ed7953\"],[0.7777777777777778,\"#fb9f3a\"],[0.8888888888888888,\"#fdca26\"],[1.0,\"#f0f921\"]],\"type\":\"heatmap\"}],\"heatmapgl\":[{\"colorbar\":{\"outlinewidth\":0,\"ticks\":\"\"},\"colorscale\":[[0.0,\"#0d0887\"],[0.1111111111111111,\"#46039f\"],[0.2222222222222222,\"#7201a8\"],[0.3333333333333333,\"#9c179e\"],[0.4444444444444444,\"#bd3786\"],[0.5555555555555556,\"#d8576b\"],[0.6666666666666666,\"#ed7953\"],[0.7777777777777778,\"#fb9f3a\"],[0.8888888888888888,\"#fdca26\"],[1.0,\"#f0f921\"]],\"type\":\"heatmapgl\"}],\"histogram\":[{\"marker\":{\"pattern\":{\"fillmode\":\"overlay\",\"size\":10,\"solidity\":0.2}},\"type\":\"histogram\"}],\"histogram2d\":[{\"colorbar\":{\"outlinewidth\":0,\"ticks\":\"\"},\"colorscale\":[[0.0,\"#0d0887\"],[0.1111111111111111,\"#46039f\"],[0.2222222222222222,\"#7201a8\"],[0.3333333333333333,\"#9c179e\"],[0.4444444444444444,\"#bd3786\"],[0.5555555555555556,\"#d8576b\"],[0.6666666666666666,\"#ed7953\"],[0.7777777777777778,\"#fb9f3a\"],[0.8888888888888888,\"#fdca26\"],[1.0,\"#f0f921\"]],\"type\":\"histogram2d\"}],\"histogram2dcontour\":[{\"colorbar\":{\"outlinewidth\":0,\"ticks\":\"\"},\"colorscale\":[[0.0,\"#0d0887\"],[0.1111111111111111,\"#46039f\"],[0.2222222222222222,\"#7201a8\"],[0.3333333333333333,\"#9c179e\"],[0.4444444444444444,\"#bd3786\"],[0.5555555555555556,\"#d8576b\"],[0.6666666666666666,\"#ed7953\"],[0.7777777777777778,\"#fb9f3a\"],[0.8888888888888888,\"#fdca26\"],[1.0,\"#f0f921\"]],\"type\":\"histogram2dcontour\"}],\"mesh3d\":[{\"colorbar\":{\"outlinewidth\":0,\"ticks\":\"\"},\"type\":\"mesh3d\"}],\"parcoords\":[{\"line\":{\"colorbar\":{\"outlinewidth\":0,\"ticks\":\"\"}},\"type\":\"parcoords\"}],\"pie\":[{\"automargin\":true,\"type\":\"pie\"}],\"scatter\":[{\"marker\":{\"colorbar\":{\"outlinewidth\":0,\"ticks\":\"\"}},\"type\":\"scatter\"}],\"scatter3d\":[{\"line\":{\"colorbar\":{\"outlinewidth\":0,\"ticks\":\"\"}},\"marker\":{\"colorbar\":{\"outlinewidth\":0,\"ticks\":\"\"}},\"type\":\"scatter3d\"}],\"scattercarpet\":[{\"marker\":{\"colorbar\":{\"outlinewidth\":0,\"ticks\":\"\"}},\"type\":\"scattercarpet\"}],\"scattergeo\":[{\"marker\":{\"colorbar\":{\"outlinewidth\":0,\"ticks\":\"\"}},\"type\":\"scattergeo\"}],\"scattergl\":[{\"marker\":{\"colorbar\":{\"outlinewidth\":0,\"ticks\":\"\"}},\"type\":\"scattergl\"}],\"scattermapbox\":[{\"marker\":{\"colorbar\":{\"outlinewidth\":0,\"ticks\":\"\"}},\"type\":\"scattermapbox\"}],\"scatterpolar\":[{\"marker\":{\"colorbar\":{\"outlinewidth\":0,\"ticks\":\"\"}},\"type\":\"scatterpolar\"}],\"scatterpolargl\":[{\"marker\":{\"colorbar\":{\"outlinewidth\":0,\"ticks\":\"\"}},\"type\":\"scatterpolargl\"}],\"scatterternary\":[{\"marker\":{\"colorbar\":{\"outlinewidth\":0,\"ticks\":\"\"}},\"type\":\"scatterternary\"}],\"surface\":[{\"colorbar\":{\"outlinewidth\":0,\"ticks\":\"\"},\"colorscale\":[[0.0,\"#0d0887\"],[0.1111111111111111,\"#46039f\"],[0.2222222222222222,\"#7201a8\"],[0.3333333333333333,\"#9c179e\"],[0.4444444444444444,\"#bd3786\"],[0.5555555555555556,\"#d8576b\"],[0.6666666666666666,\"#ed7953\"],[0.7777777777777778,\"#fb9f3a\"],[0.8888888888888888,\"#fdca26\"],[1.0,\"#f0f921\"]],\"type\":\"surface\"}],\"table\":[{\"cells\":{\"fill\":{\"color\":\"#EBF0F8\"},\"line\":{\"color\":\"white\"}},\"header\":{\"fill\":{\"color\":\"#C8D4E3\"},\"line\":{\"color\":\"white\"}},\"type\":\"table\"}]},\"layout\":{\"annotationdefaults\":{\"arrowcolor\":\"#2a3f5f\",\"arrowhead\":0,\"arrowwidth\":1},\"autotypenumbers\":\"strict\",\"coloraxis\":{\"colorbar\":{\"outlinewidth\":0,\"ticks\":\"\"}},\"colorscale\":{\"diverging\":[[0,\"#8e0152\"],[0.1,\"#c51b7d\"],[0.2,\"#de77ae\"],[0.3,\"#f1b6da\"],[0.4,\"#fde0ef\"],[0.5,\"#f7f7f7\"],[0.6,\"#e6f5d0\"],[0.7,\"#b8e186\"],[0.8,\"#7fbc41\"],[0.9,\"#4d9221\"],[1,\"#276419\"]],\"sequential\":[[0.0,\"#0d0887\"],[0.1111111111111111,\"#46039f\"],[0.2222222222222222,\"#7201a8\"],[0.3333333333333333,\"#9c179e\"],[0.4444444444444444,\"#bd3786\"],[0.5555555555555556,\"#d8576b\"],[0.6666666666666666,\"#ed7953\"],[0.7777777777777778,\"#fb9f3a\"],[0.8888888888888888,\"#fdca26\"],[1.0,\"#f0f921\"]],\"sequentialminus\":[[0.0,\"#0d0887\"],[0.1111111111111111,\"#46039f\"],[0.2222222222222222,\"#7201a8\"],[0.3333333333333333,\"#9c179e\"],[0.4444444444444444,\"#bd3786\"],[0.5555555555555556,\"#d8576b\"],[0.6666666666666666,\"#ed7953\"],[0.7777777777777778,\"#fb9f3a\"],[0.8888888888888888,\"#fdca26\"],[1.0,\"#f0f921\"]]},\"colorway\":[\"#636efa\",\"#EF553B\",\"#00cc96\",\"#ab63fa\",\"#FFA15A\",\"#19d3f3\",\"#FF6692\",\"#B6E880\",\"#FF97FF\",\"#FECB52\"],\"font\":{\"color\":\"#2a3f5f\"},\"geo\":{\"bgcolor\":\"white\",\"lakecolor\":\"white\",\"landcolor\":\"#E5ECF6\",\"showlakes\":true,\"showland\":true,\"subunitcolor\":\"white\"},\"hoverlabel\":{\"align\":\"left\"},\"hovermode\":\"closest\",\"mapbox\":{\"style\":\"light\"},\"paper_bgcolor\":\"white\",\"plot_bgcolor\":\"#E5ECF6\",\"polar\":{\"angularaxis\":{\"gridcolor\":\"white\",\"linecolor\":\"white\",\"ticks\":\"\"},\"bgcolor\":\"#E5ECF6\",\"radialaxis\":{\"gridcolor\":\"white\",\"linecolor\":\"white\",\"ticks\":\"\"}},\"scene\":{\"xaxis\":{\"backgroundcolor\":\"#E5ECF6\",\"gridcolor\":\"white\",\"gridwidth\":2,\"linecolor\":\"white\",\"showbackground\":true,\"ticks\":\"\",\"zerolinecolor\":\"white\"},\"yaxis\":{\"backgroundcolor\":\"#E5ECF6\",\"gridcolor\":\"white\",\"gridwidth\":2,\"linecolor\":\"white\",\"showbackground\":true,\"ticks\":\"\",\"zerolinecolor\":\"white\"},\"zaxis\":{\"backgroundcolor\":\"#E5ECF6\",\"gridcolor\":\"white\",\"gridwidth\":2,\"linecolor\":\"white\",\"showbackground\":true,\"ticks\":\"\",\"zerolinecolor\":\"white\"}},\"shapedefaults\":{\"line\":{\"color\":\"#2a3f5f\"}},\"ternary\":{\"aaxis\":{\"gridcolor\":\"white\",\"linecolor\":\"white\",\"ticks\":\"\"},\"baxis\":{\"gridcolor\":\"white\",\"linecolor\":\"white\",\"ticks\":\"\"},\"bgcolor\":\"#E5ECF6\",\"caxis\":{\"gridcolor\":\"white\",\"linecolor\":\"white\",\"ticks\":\"\"}},\"title\":{\"x\":0.05},\"xaxis\":{\"automargin\":true,\"gridcolor\":\"white\",\"linecolor\":\"white\",\"ticks\":\"\",\"title\":{\"standoff\":15},\"zerolinecolor\":\"white\",\"zerolinewidth\":2},\"yaxis\":{\"automargin\":true,\"gridcolor\":\"white\",\"linecolor\":\"white\",\"ticks\":\"\",\"title\":{\"standoff\":15},\"zerolinecolor\":\"white\",\"zerolinewidth\":2}}}},                        {\"responsive\": true}                    ).then(function(){\n",
              "                            \n",
              "var gd = document.getElementById('baaf9d43-07c5-41b1-8532-a5e3abb5e299');\n",
              "var x = new MutationObserver(function (mutations, observer) {{\n",
              "        var display = window.getComputedStyle(gd).display;\n",
              "        if (!display || display === 'none') {{\n",
              "            console.log([gd, 'removed!']);\n",
              "            Plotly.purge(gd);\n",
              "            observer.disconnect();\n",
              "        }}\n",
              "}});\n",
              "\n",
              "// Listen for the removal of the full notebook cells\n",
              "var notebookContainer = gd.closest('#notebook-container');\n",
              "if (notebookContainer) {{\n",
              "    x.observe(notebookContainer, {childList: true});\n",
              "}}\n",
              "\n",
              "// Listen for the clearing of the current output cell\n",
              "var outputEl = gd.closest('.output');\n",
              "if (outputEl) {{\n",
              "    x.observe(outputEl, {childList: true});\n",
              "}}\n",
              "\n",
              "                        })                };                            </script>        </div>\n",
              "</body>\n",
              "</html>"
            ]
          },
          "metadata": {},
          "output_type": "display_data"
        }
      ],
      "source": [
        "import plotly.graph_objects as go\n",
        "\n",
        "labels=['0', '1']\n",
        "values= [len(df['Class'].loc[df['Class'] == 0]), len(df['Class'].loc[df['Class'] == 1])]\n",
        "colors = ['#0037FF', '#FF0000']\n",
        "\n",
        "fig = go.Figure(data=[go.Pie(\n",
        "    labels=labels, title=\"Class\",\n",
        "    values=values, pull=[0.1, 0, 0 ],\n",
        "    marker=dict(colors=colors, \n",
        "                line=dict(color='#000000', \n",
        "                          width=2))\n",
        ")])\n",
        "fig.show()"
      ],
      "id": "8c629af2"
    },
    {
      "cell_type": "code",
      "execution_count": null,
      "metadata": {
        "colab": {
          "base_uri": "https://localhost:8080/",
          "height": 339
        },
        "id": "c2d2c60b",
        "outputId": "f34a58b9-3858-4857-842c-21a869846617"
      },
      "outputs": [
        {
          "name": "stdout",
          "output_type": "stream",
          "text": [
            "0    284315\n",
            "1       492\n",
            "Name: Class, dtype: int64\n"
          ]
        },
        {
          "data": {
            "image/png": "[encoded data removed]",
            "text/plain": [
              "<Figure size 432x288 with 1 Axes>"
            ]
          },
          "metadata": {},
          "output_type": "display_data"
        }
      ],
      "source": [
        "#The goal of the problem is to be able to distinguish between the Target Class (0 or 1)\n",
        "target = 'Class'\n",
        "ax = sns.countplot(x=target,data=df)\n",
        "print(df[target].value_counts())"
      ],
      "id": "c2d2c60b"
    },
    {
      "cell_type": "code",
      "execution_count": null,
      "metadata": {
        "id": "32197549"
      },
      "outputs": [],
      "source": [
        "#There is a large imbalance of data. There are few fraudulent entries. \n",
        "#Therefore there is a large imbalance between positive and fraudulent transactions. \n",
        "#In order to solve it, I will use the SMOTE technique - Synthetic Minority Oversampling Technique"
      ],
      "id": "32197549"
    },
    {
      "cell_type": "markdown",
      "metadata": {
        "id": "b23358b0"
      },
      "source": [
        "### Oversampling Using SMOTE"
      ],
      "id": "b23358b0"
    },
    {
      "cell_type": "code",
      "execution_count": null,
      "metadata": {
        "colab": {
          "base_uri": "https://localhost:8080/"
        },
        "id": "76d3d9f0",
        "outputId": "79c29493-be9d-4168-b6a2-15d30988422a"
      },
      "outputs": [
        {
          "data": {
            "text/plain": [
              "99.82725143693798"
            ]
          },
          "execution_count": 22,
          "metadata": {},
          "output_type": "execute_result"
        }
      ],
      "source": [
        "percentage_P_Tr = 100*(284315/float(df.shape[0]))\n",
        "percentage_P_Tr"
      ],
      "id": "76d3d9f0"
    },
    {
      "cell_type": "code",
      "execution_count": null,
      "metadata": {
        "colab": {
          "base_uri": "https://localhost:8080/"
        },
        "id": "7f205536",
        "outputId": "7c30beb4-8811-4d3d-a630-f75d161c23e0"
      },
      "outputs": [
        {
          "data": {
            "text/plain": [
              "0.1727485630620034"
            ]
          },
          "execution_count": 23,
          "metadata": {},
          "output_type": "execute_result"
        }
      ],
      "source": [
        "percentage_F_Tr = 100*(492/float(df.shape[0]))\n",
        "percentage_F_Tr"
      ],
      "id": "7f205536"
    },
    {
      "cell_type": "code",
      "execution_count": null,
      "metadata": {
        "id": "950db447"
      },
      "outputs": [],
      "source": [
        "X = df.loc[:,df.columns!=target]\n",
        "y = df.loc[:,df.columns==target]"
      ],
      "id": "950db447"
    },
    {
      "cell_type": "code",
      "execution_count": null,
      "metadata": {
        "id": "e4da3bbc"
      },
      "outputs": [],
      "source": [
        "from sklearn.datasets import make_classification\n",
        "from imblearn.over_sampling import SMOTE\n",
        "\n",
        "oversample = SMOTE()\n",
        "X_overSamp, y_overSamp = oversample.fit_resample(X, y)"
      ],
      "id": "e4da3bbc"
    },
    {
      "cell_type": "code",
      "execution_count": null,
      "metadata": {
        "colab": {
          "base_uri": "https://localhost:8080/",
          "height": 339
        },
        "id": "646e1550",
        "outputId": "3cb11ac4-a648-4ae2-cdae-1e36ac6b71c9"
      },
      "outputs": [
        {
          "name": "stdout",
          "output_type": "stream",
          "text": [
            "0    284315\n",
            "1    284315\n",
            "Name: Class, dtype: int64\n"
          ]
        },
        {
          "data": {
            "image/png": "[encoded data removed]",
            "text/plain": [
              "<Figure size 432x288 with 1 Axes>"
            ]
          },
          "metadata": {},
          "output_type": "display_data"
        }
      ],
      "source": [
        "ax = sns.countplot(x=target,data=y_overSamp)\n",
        "print(y_overSamp[target].value_counts())"
      ],
      "id": "646e1550"
    },
    {
      "cell_type": "markdown",
      "metadata": {
        "id": "5d7f5e1b"
      },
      "source": [
        "### Data Preparation"
      ],
      "id": "5d7f5e1b"
    },
    {
      "cell_type": "markdown",
      "metadata": {
        "id": "f1072815"
      },
      "source": [
        "### Locate Missing Data"
      ],
      "id": "f1072815"
    },
    {
      "cell_type": "code",
      "execution_count": null,
      "metadata": {
        "colab": {
          "base_uri": "https://localhost:8080/",
          "height": 424
        },
        "id": "c1db000c",
        "outputId": "bfd36cb5-6cf2-444c-b071-68965e3cad5d"
      },
      "outputs": [
        {
          "data": {
            "text/html": [
              "\n",
              "  <div id=\"df-32e56797-58ef-4e73-b593-f697c4908cd5\">\n",
              "    <div class=\"colab-df-container\">\n",
              "      <div>\n",
              "<style scoped>\n",
              "    .dataframe tbody tr th:only-of-type {\n",
              "        vertical-align: middle;\n",
              "    }\n",
              "\n",
              "    .dataframe tbody tr th {\n",
              "        vertical-align: top;\n",
              "    }\n",
              "\n",
              "    .dataframe thead th {\n",
              "        text-align: right;\n",
              "    }\n",
              "</style>\n",
              "<table border=\"1\" class=\"dataframe\">\n",
              "  <thead>\n",
              "    <tr style=\"text-align: right;\">\n",
              "      <th></th>\n",
              "      <th>Time</th>\n",
              "      <th>V1</th>\n",
              "      <th>V2</th>\n",
              "      <th>V3</th>\n",
              "      <th>V4</th>\n",
              "      <th>V5</th>\n",
              "      <th>V6</th>\n",
              "      <th>V7</th>\n",
              "      <th>V8</th>\n",
              "      <th>V9</th>\n",
              "      <th>...</th>\n",
              "      <th>V21</th>\n",
              "      <th>V22</th>\n",
              "      <th>V23</th>\n",
              "      <th>V24</th>\n",
              "      <th>V25</th>\n",
              "      <th>V26</th>\n",
              "      <th>V27</th>\n",
              "      <th>V28</th>\n",
              "      <th>Amount</th>\n",
              "      <th>Class</th>\n",
              "    </tr>\n",
              "  </thead>\n",
              "  <tbody>\n",
              "    <tr>\n",
              "      <th>0</th>\n",
              "      <td>False</td>\n",
              "      <td>False</td>\n",
              "      <td>False</td>\n",
              "      <td>False</td>\n",
              "      <td>False</td>\n",
              "      <td>False</td>\n",
              "      <td>False</td>\n",
              "      <td>False</td>\n",
              "      <td>False</td>\n",
              "      <td>False</td>\n",
              "      <td>...</td>\n",
              "      <td>False</td>\n",
              "      <td>False</td>\n",
              "      <td>False</td>\n",
              "      <td>False</td>\n",
              "      <td>False</td>\n",
              "      <td>False</td>\n",
              "      <td>False</td>\n",
              "      <td>False</td>\n",
              "      <td>False</td>\n",
              "      <td>False</td>\n",
              "    </tr>\n",
              "    <tr>\n",
              "      <th>1</th>\n",
              "      <td>False</td>\n",
              "      <td>False</td>\n",
              "      <td>False</td>\n",
              "      <td>False</td>\n",
              "      <td>False</td>\n",
              "      <td>False</td>\n",
              "      <td>False</td>\n",
              "      <td>False</td>\n",
              "      <td>False</td>\n",
              "      <td>False</td>\n",
              "      <td>...</td>\n",
              "      <td>False</td>\n",
              "      <td>False</td>\n",
              "      <td>False</td>\n",
              "      <td>False</td>\n",
              "      <td>False</td>\n",
              "      <td>False</td>\n",
              "      <td>False</td>\n",
              "      <td>False</td>\n",
              "      <td>False</td>\n",
              "      <td>False</td>\n",
              "    </tr>\n",
              "    <tr>\n",
              "      <th>2</th>\n",
              "      <td>False</td>\n",
              "      <td>False</td>\n",
              "      <td>False</td>\n",
              "      <td>False</td>\n",
              "      <td>False</td>\n",
              "      <td>False</td>\n",
              "      <td>False</td>\n",
              "      <td>False</td>\n",
              "      <td>False</td>\n",
              "      <td>False</td>\n",
              "      <td>...</td>\n",
              "      <td>False</td>\n",
              "      <td>False</td>\n",
              "      <td>False</td>\n",
              "      <td>False</td>\n",
              "      <td>False</td>\n",
              "      <td>False</td>\n",
              "      <td>False</td>\n",
              "      <td>False</td>\n",
              "      <td>False</td>\n",
              "      <td>False</td>\n",
              "    </tr>\n",
              "    <tr>\n",
              "      <th>3</th>\n",
              "      <td>False</td>\n",
              "      <td>False</td>\n",
              "      <td>False</td>\n",
              "      <td>False</td>\n",
              "      <td>False</td>\n",
              "      <td>False</td>\n",
              "      <td>False</td>\n",
              "      <td>False</td>\n",
              "      <td>False</td>\n",
              "      <td>False</td>\n",
              "      <td>...</td>\n",
              "      <td>False</td>\n",
              "      <td>False</td>\n",
              "      <td>False</td>\n",
              "      <td>False</td>\n",
              "      <td>False</td>\n",
              "      <td>False</td>\n",
              "      <td>False</td>\n",
              "      <td>False</td>\n",
              "      <td>False</td>\n",
              "      <td>False</td>\n",
              "    </tr>\n",
              "    <tr>\n",
              "      <th>4</th>\n",
              "      <td>False</td>\n",
              "      <td>False</td>\n",
              "      <td>False</td>\n",
              "      <td>False</td>\n",
              "      <td>False</td>\n",
              "      <td>False</td>\n",
              "      <td>False</td>\n",
              "      <td>False</td>\n",
              "      <td>False</td>\n",
              "      <td>False</td>\n",
              "      <td>...</td>\n",
              "      <td>False</td>\n",
              "      <td>False</td>\n",
              "      <td>False</td>\n",
              "      <td>False</td>\n",
              "      <td>False</td>\n",
              "      <td>False</td>\n",
              "      <td>False</td>\n",
              "      <td>False</td>\n",
              "      <td>False</td>\n",
              "      <td>False</td>\n",
              "    </tr>\n",
              "    <tr>\n",
              "      <th>...</th>\n",
              "      <td>...</td>\n",
              "      <td>...</td>\n",
              "      <td>...</td>\n",
              "      <td>...</td>\n",
              "      <td>...</td>\n",
              "      <td>...</td>\n",
              "      <td>...</td>\n",
              "      <td>...</td>\n",
              "      <td>...</td>\n",
              "      <td>...</td>\n",
              "      <td>...</td>\n",
              "      <td>...</td>\n",
              "      <td>...</td>\n",
              "      <td>...</td>\n",
              "      <td>...</td>\n",
              "      <td>...</td>\n",
              "      <td>...</td>\n",
              "      <td>...</td>\n",
              "      <td>...</td>\n",
              "      <td>...</td>\n",
              "      <td>...</td>\n",
              "    </tr>\n",
              "    <tr>\n",
              "      <th>284802</th>\n",
              "      <td>False</td>\n",
              "      <td>False</td>\n",
              "      <td>False</td>\n",
              "      <td>False</td>\n",
              "      <td>False</td>\n",
              "      <td>False</td>\n",
              "      <td>False</td>\n",
              "      <td>False</td>\n",
              "      <td>False</td>\n",
              "      <td>False</td>\n",
              "      <td>...</td>\n",
              "      <td>False</td>\n",
              "      <td>False</td>\n",
              "      <td>False</td>\n",
              "      <td>False</td>\n",
              "      <td>False</td>\n",
              "      <td>False</td>\n",
              "      <td>False</td>\n",
              "      <td>False</td>\n",
              "      <td>False</td>\n",
              "      <td>False</td>\n",
              "    </tr>\n",
              "    <tr>\n",
              "      <th>284803</th>\n",
              "      <td>False</td>\n",
              "      <td>False</td>\n",
              "      <td>False</td>\n",
              "      <td>False</td>\n",
              "      <td>False</td>\n",
              "      <td>False</td>\n",
              "      <td>False</td>\n",
              "      <td>False</td>\n",
              "      <td>False</td>\n",
              "      <td>False</td>\n",
              "      <td>...</td>\n",
              "      <td>False</td>\n",
              "      <td>False</td>\n",
              "      <td>False</td>\n",
              "      <td>False</td>\n",
              "      <td>False</td>\n",
              "      <td>False</td>\n",
              "      <td>False</td>\n",
              "      <td>False</td>\n",
              "      <td>False</td>\n",
              "      <td>False</td>\n",
              "    </tr>\n",
              "    <tr>\n",
              "      <th>284804</th>\n",
              "      <td>False</td>\n",
              "      <td>False</td>\n",
              "      <td>False</td>\n",
              "      <td>False</td>\n",
              "      <td>False</td>\n",
              "      <td>False</td>\n",
              "      <td>False</td>\n",
              "      <td>False</td>\n",
              "      <td>False</td>\n",
              "      <td>False</td>\n",
              "      <td>...</td>\n",
              "      <td>False</td>\n",
              "      <td>False</td>\n",
              "      <td>False</td>\n",
              "      <td>False</td>\n",
              "      <td>False</td>\n",
              "      <td>False</td>\n",
              "      <td>False</td>\n",
              "      <td>False</td>\n",
              "      <td>False</td>\n",
              "      <td>False</td>\n",
              "    </tr>\n",
              "    <tr>\n",
              "      <th>284805</th>\n",
              "      <td>False</td>\n",
              "      <td>False</td>\n",
              "      <td>False</td>\n",
              "      <td>False</td>\n",
              "      <td>False</td>\n",
              "      <td>False</td>\n",
              "      <td>False</td>\n",
              "      <td>False</td>\n",
              "      <td>False</td>\n",
              "      <td>False</td>\n",
              "      <td>...</td>\n",
              "      <td>False</td>\n",
              "      <td>False</td>\n",
              "      <td>False</td>\n",
              "      <td>False</td>\n",
              "      <td>False</td>\n",
              "      <td>False</td>\n",
              "      <td>False</td>\n",
              "      <td>False</td>\n",
              "      <td>False</td>\n",
              "      <td>False</td>\n",
              "    </tr>\n",
              "    <tr>\n",
              "      <th>284806</th>\n",
              "      <td>False</td>\n",
              "      <td>False</td>\n",
              "      <td>False</td>\n",
              "      <td>False</td>\n",
              "      <td>False</td>\n",
              "      <td>False</td>\n",
              "      <td>False</td>\n",
              "      <td>False</td>\n",
              "      <td>False</td>\n",
              "      <td>False</td>\n",
              "      <td>...</td>\n",
              "      <td>False</td>\n",
              "      <td>False</td>\n",
              "      <td>False</td>\n",
              "      <td>False</td>\n",
              "      <td>False</td>\n",
              "      <td>False</td>\n",
              "      <td>False</td>\n",
              "      <td>False</td>\n",
              "      <td>False</td>\n",
              "      <td>False</td>\n",
              "    </tr>\n",
              "  </tbody>\n",
              "</table>\n",
              "<p>284807 rows × 31 columns</p>\n",
              "</div>\n",
              "      <button class=\"colab-df-convert\" onclick=\"convertToInteractive('df-32e56797-58ef-4e73-b593-f697c4908cd5')\"\n",
              "              title=\"Convert this dataframe to an interactive table.\"\n",
              "              style=\"display:none;\">\n",
              "        \n",
              "  <svg xmlns=\"http://www.w3.org/2000/svg\" height=\"24px\"viewBox=\"0 0 24 24\"\n",
              "       width=\"24px\">\n",
              "    <path d=\"M0 0h24v24H0V0z\" fill=\"none\"/>\n",
              "    <path d=\"M18.56 5.44l.94 2.06.94-2.06 2.06-.94-2.06-.94-.94-2.06-.94 2.06-2.06.94zm-11 1L8.5 8.5l.94-2.06 2.06-.94-2.06-.94L8.5 2.5l-.94 2.06-2.06.94zm10 10l.94 2.06.94-2.06 2.06-.94-2.06-.94-.94-2.06-.94 2.06-2.06.94z\"/><path d=\"M17.41 7.96l-1.37-1.37c-.4-.4-.92-.59-1.43-.59-.52 0-1.04.2-1.43.59L10.3 9.45l-7.72 7.72c-.78.78-.78 2.05 0 2.83L4 21.41c.39.39.9.59 1.41.59.51 0 1.02-.2 1.41-.59l7.78-7.78 2.81-2.81c.8-.78.8-2.07 0-2.86zM5.41 20L4 18.59l7.72-7.72 1.47 1.35L5.41 20z\"/>\n",
              "  </svg>\n",
              "      </button>\n",
              "      \n",
              "  <style>\n",
              "    .colab-df-container {\n",
              "      display:flex;\n",
              "      flex-wrap:wrap;\n",
              "      gap: 12px;\n",
              "    }\n",
              "\n",
              "    .colab-df-convert {\n",
              "      background-color: #E8F0FE;\n",
              "      border: none;\n",
              "      border-radius: 50%;\n",
              "      cursor: pointer;\n",
              "      display: none;\n",
              "      fill: #1967D2;\n",
              "      height: 32px;\n",
              "      padding: 0 0 0 0;\n",
              "      width: 32px;\n",
              "    }\n",
              "\n",
              "    .colab-df-convert:hover {\n",
              "      background-color: #E2EBFA;\n",
              "      box-shadow: 0px 1px 2px rgba(60, 64, 67, 0.3), 0px 1px 3px 1px rgba(60, 64, 67, 0.15);\n",
              "      fill: #174EA6;\n",
              "    }\n",
              "\n",
              "    [theme=dark] .colab-df-convert {\n",
              "      background-color: #3B4455;\n",
              "      fill: #D2E3FC;\n",
              "    }\n",
              "\n",
              "    [theme=dark] .colab-df-convert:hover {\n",
              "      background-color: #434B5C;\n",
              "      box-shadow: 0px 1px 3px 1px rgba(0, 0, 0, 0.15);\n",
              "      filter: drop-shadow(0px 1px 2px rgba(0, 0, 0, 0.3));\n",
              "      fill: #FFFFFF;\n",
              "    }\n",
              "  </style>\n",
              "\n",
              "      <script>\n",
              "        const buttonEl =\n",
              "          document.querySelector('#df-32e56797-58ef-4e73-b593-f697c4908cd5 button.colab-df-convert');\n",
              "        buttonEl.style.display =\n",
              "          google.colab.kernel.accessAllowed ? 'block' : 'none';\n",
              "\n",
              "        async function convertToInteractive(key) {\n",
              "          const element = document.querySelector('#df-32e56797-58ef-4e73-b593-f697c4908cd5');\n",
              "          const dataTable =\n",
              "            await google.colab.kernel.invokeFunction('convertToInteractive',\n",
              "                                                     [key], {});\n",
              "          if (!dataTable) return;\n",
              "\n",
              "          const docLinkHtml = 'Like what you see? Visit the ' +\n",
              "            '<a target=\"_blank\" href=https://colab.research.google.com/notebooks/data_table.ipynb>data table notebook</a>'\n",
              "            + ' to learn more about interactive tables.';\n",
              "          element.innerHTML = '';\n",
              "          dataTable['output_type'] = 'display_data';\n",
              "          await google.colab.output.renderOutput(dataTable, element);\n",
              "          const docLink = document.createElement('div');\n",
              "          docLink.innerHTML = docLinkHtml;\n",
              "          element.appendChild(docLink);\n",
              "        }\n",
              "      </script>\n",
              "    </div>\n",
              "  </div>\n",
              "  "
            ],
            "text/plain": [
              "         Time     V1     V2     V3     V4     V5     V6     V7     V8     V9  \\\n",
              "0       False  False  False  False  False  False  False  False  False  False   \n",
              "1       False  False  False  False  False  False  False  False  False  False   \n",
              "2       False  False  False  False  False  False  False  False  False  False   \n",
              "3       False  False  False  False  False  False  False  False  False  False   \n",
              "4       False  False  False  False  False  False  False  False  False  False   \n",
              "...       ...    ...    ...    ...    ...    ...    ...    ...    ...    ...   \n",
              "284802  False  False  False  False  False  False  False  False  False  False   \n",
              "284803  False  False  False  False  False  False  False  False  False  False   \n",
              "284804  False  False  False  False  False  False  False  False  False  False   \n",
              "284805  False  False  False  False  False  False  False  False  False  False   \n",
              "284806  False  False  False  False  False  False  False  False  False  False   \n",
              "\n",
              "        ...    V21    V22    V23    V24    V25    V26    V27    V28  Amount  \\\n",
              "0       ...  False  False  False  False  False  False  False  False   False   \n",
              "1       ...  False  False  False  False  False  False  False  False   False   \n",
              "2       ...  False  False  False  False  False  False  False  False   False   \n",
              "3       ...  False  False  False  False  False  False  False  False   False   \n",
              "4       ...  False  False  False  False  False  False  False  False   False   \n",
              "...     ...    ...    ...    ...    ...    ...    ...    ...    ...     ...   \n",
              "284802  ...  False  False  False  False  False  False  False  False   False   \n",
              "284803  ...  False  False  False  False  False  False  False  False   False   \n",
              "284804  ...  False  False  False  False  False  False  False  False   False   \n",
              "284805  ...  False  False  False  False  False  False  False  False   False   \n",
              "284806  ...  False  False  False  False  False  False  False  False   False   \n",
              "\n",
              "        Class  \n",
              "0       False  \n",
              "1       False  \n",
              "2       False  \n",
              "3       False  \n",
              "4       False  \n",
              "...       ...  \n",
              "284802  False  \n",
              "284803  False  \n",
              "284804  False  \n",
              "284805  False  \n",
              "284806  False  \n",
              "\n",
              "[284807 rows x 31 columns]"
            ]
          },
          "execution_count": 27,
          "metadata": {},
          "output_type": "execute_result"
        }
      ],
      "source": [
        "df.isnull()"
      ],
      "id": "c1db000c"
    },
    {
      "cell_type": "code",
      "execution_count": null,
      "metadata": {
        "colab": {
          "base_uri": "https://localhost:8080/"
        },
        "id": "d180e9a0",
        "outputId": "7b2a3ecb-1577-4316-9072-86effbba6c41"
      },
      "outputs": [
        {
          "data": {
            "text/plain": [
              "Time      0\n",
              "V1        0\n",
              "V2        0\n",
              "V3        0\n",
              "V4        0\n",
              "V5        0\n",
              "V6        0\n",
              "V7        0\n",
              "V8        0\n",
              "V9        0\n",
              "V10       0\n",
              "V11       0\n",
              "V12       0\n",
              "V13       0\n",
              "V14       0\n",
              "V15       0\n",
              "V16       0\n",
              "V17       0\n",
              "V18       0\n",
              "V19       0\n",
              "V20       0\n",
              "V21       0\n",
              "V22       0\n",
              "V23       0\n",
              "V24       0\n",
              "V25       0\n",
              "V26       0\n",
              "V27       0\n",
              "V28       0\n",
              "Amount    0\n",
              "Class     0\n",
              "dtype: int64"
            ]
          },
          "execution_count": 28,
          "metadata": {},
          "output_type": "execute_result"
        }
      ],
      "source": [
        "df.isnull().sum()\n"
      ],
      "id": "d180e9a0"
    },
    {
      "cell_type": "markdown",
      "metadata": {
        "id": "818a93e3"
      },
      "source": [
        "### Check for duplicates"
      ],
      "id": "818a93e3"
    },
    {
      "cell_type": "code",
      "execution_count": null,
      "metadata": {
        "colab": {
          "base_uri": "https://localhost:8080/"
        },
        "id": "9a63db02",
        "outputId": "52e82804-ce06-4f64-a678-d6c8a0d00728"
      },
      "outputs": [
        {
          "name": "stdout",
          "output_type": "stream",
          "text": [
            "Number of duplicated records total: 1081\n",
            "Number of duplicated records in Fraud cases: 19\n",
            "Number of duplicated records in Valid cases: 1062\n"
          ]
        }
      ],
      "source": [
        "dup = df[df.duplicated()]\n",
        "print(\"Number of duplicated records total:\", len(dup))\n",
        "print(\"Number of duplicated records in Fraud cases:\", len(dup[dup[\"Class\"]==1]))\n",
        "print(\"Number of duplicated records in Valid cases:\", len(dup[dup[\"Class\"]==0]))"
      ],
      "id": "9a63db02"
    },
    {
      "cell_type": "code",
      "execution_count": null,
      "metadata": {
        "colab": {
          "base_uri": "https://localhost:8080/"
        },
        "id": "cee40944",
        "outputId": "801f211e-dfcf-4aeb-c2be-a7810796a5c0"
      },
      "outputs": [
        {
          "name": "stdout",
          "output_type": "stream",
          "text": [
            "1081  duplicated records removed\n",
            "Total records left: 283726\n"
          ]
        }
      ],
      "source": [
        "total = len(df)\n",
        "df.drop_duplicates(inplace=True)\n",
        "print(total - len(df), \" duplicated records removed\")\n",
        "print(\"Total records left:\", len(df))"
      ],
      "id": "cee40944"
    },
    {
      "cell_type": "code",
      "execution_count": null,
      "metadata": {
        "colab": {
          "base_uri": "https://localhost:8080/"
        },
        "id": "6c7bcfb0",
        "outputId": "400cd192-4a72-4601-b076-1f14362e250b"
      },
      "outputs": [
        {
          "name": "stdout",
          "output_type": "stream",
          "text": [
            "Valid    283253\n",
            "Fraud       473\n",
            "Name: Class, dtype: int64\n"
          ]
        }
      ],
      "source": [
        "#Fraud and Non-Fraud count after removing duplicates\n",
        "class_names = {0:'Valid', 1:'Fraud'}\n",
        "print(df.Class.value_counts().rename(index = class_names))"
      ],
      "id": "6c7bcfb0"
    },
    {
      "cell_type": "markdown",
      "metadata": {
        "id": "f81fabcc"
      },
      "source": [
        "### Model Training"
      ],
      "id": "f81fabcc"
    },
    {
      "cell_type": "markdown",
      "metadata": {
        "id": "5d1ad4e0"
      },
      "source": [
        "### Logistic Regression Model"
      ],
      "id": "5d1ad4e0"
    },
    {
      "cell_type": "code",
      "execution_count": null,
      "metadata": {
        "colab": {
          "base_uri": "https://localhost:8080/"
        },
        "id": "4d97221b",
        "outputId": "ee48ce24-0a74-466f-a1e5-b7d84e45365d"
      },
      "outputs": [
        {
          "name": "stdout",
          "output_type": "stream",
          "text": [
            "no display found. Using non-interactive Agg backend\n"
          ]
        }
      ],
      "source": [
        "from pathlib import Path\n",
        "\n",
        "from sklearn.linear_model import LogisticRegression\n",
        "from sklearn.model_selection import train_test_split\n",
        "from sklearn.linear_model import LinearRegression\n",
        "from sklearn.metrics import r2_score\n",
        "from sklearn.model_selection import train_test_split\n",
        "from sklearn.ensemble import RandomForestClassifier\n",
        "\n",
        "import statsmodels.api as sm\n",
        "\n",
        "from mord import LogisticIT\n",
        "\n",
        "from dmba import classificationSummary, gainsChart, liftChart\n",
        "from dmba import regressionSummary, exhaustive_search\n",
        "from dmba import backward_elimination, forward_selection, stepwise_selection\n",
        "from dmba import adjusted_r2_score, AIC_score, BIC_score\n",
        "\n"
      ],
      "id": "4d97221b"
    },
    {
      "cell_type": "code",
      "execution_count": null,
      "metadata": {
        "colab": {
          "base_uri": "https://localhost:8080/"
        },
        "id": "63fa48eb",
        "outputId": "a710278f-97db-4597-d26f-3cdf0d4d54ab"
      },
      "outputs": [
        {
          "name": "stdout",
          "output_type": "stream",
          "text": [
            "Parameters of Logistic Regresion Model with Multiple Predictors\n",
            "Intercept: -1.576\n",
            "Coefficients for Predictors\n",
            "        Time     V1     V2     V3     V4    V5    V6     V7     V8     V9  \\\n",
            "Coeff:  -0.0  0.299 -0.448 -0.808  0.119  0.03 -0.05  0.284 -0.354 -0.383   \n",
            "\n",
            "        ...    V20    V21    V22    V23    V24    V25    V26   V27    V28  \\\n",
            "Coeff:  ...  0.091  0.237  0.331  0.052 -0.018 -0.343  0.053 -0.08  0.022   \n",
            "\n",
            "        Amount  \n",
            "Coeff:  -0.005  \n",
            "\n",
            "[1 rows x 30 columns]\n"
          ]
        }
      ],
      "source": [
        "# Create predictors X and outcome y variables.\n",
        "X = df.drop(columns=['Class'])\n",
        "y = df['Class']\n",
        "\n",
        "\n",
        "# Partition data into training (70% or 0.7) and validation(30% or 0.3)\n",
        "train_X, valid_X, train_y, valid_y = train_test_split(X, y, \n",
        "                            test_size=0.3, random_state=1)\n",
        "log_reg = LogisticRegression(penalty='l2', C=1e42, solver='liblinear')\n",
        "log_reg.fit(train_X, train_y)\n",
        "\n",
        "# Show intercept and coefficients of the multiple predictors' logistic model.\n",
        "print('Parameters of Logistic Regresion Model with Multiple Predictors')\n",
        "print('Intercept:', np.round(log_reg.intercept_[0], decimals=3))\n",
        "print('Coefficients for Predictors')\n",
        "print(pd.DataFrame({'Coeff:': np.round(log_reg.coef_[0], decimals=3)}, \n",
        "                    index=X.columns).transpose())"
      ],
      "id": "63fa48eb"
    },
    {
      "cell_type": "code",
      "execution_count": null,
      "metadata": {
        "colab": {
          "base_uri": "https://localhost:8080/"
        },
        "id": "74c51dc4",
        "outputId": "36b7767b-15bc-4d2d-bf63-aa3c6ea18515"
      },
      "outputs": [
        {
          "name": "stdout",
          "output_type": "stream",
          "text": [
            "Classification for Validation Partition\n",
            "        Actual  Classification    p(0)    p(1)\n",
            "33560        0               0  0.9998  0.0002\n",
            "57869        0               0  0.9965  0.0035\n",
            "187479       0               0  1.0000  0.0000\n",
            "243555       0               0  1.0000  0.0000\n",
            "96229        0               0  1.0000  0.0000\n",
            "71364        0               0  0.9978  0.0022\n",
            "39103        0               0  0.9931  0.0069\n",
            "216874       0               0  1.0000  0.0000\n",
            "130960       0               0  0.9999  0.0001\n",
            "262914       0               0  1.0000  0.0000\n",
            "237667       0               0  1.0000  0.0000\n",
            "90949        0               0  0.9987  0.0013\n",
            "168298       0               0  1.0000  0.0000\n",
            "148458       0               0  0.9996  0.0004\n",
            "33461        0               0  0.9919  0.0081\n",
            "130521       0               0  0.9999  0.0001\n",
            "2172         0               0  0.9455  0.0545\n",
            "194000       0               0  0.9999  0.0001\n",
            "4182         0               0  0.9917  0.0083\n",
            "153892       0               0  1.0000  0.0000\n"
          ]
        }
      ],
      "source": [
        "# Make predictions for validation set using multiple\n",
        "# predictors logistic regression model. \n",
        "\n",
        "# Predict multiple predictors logistic model's results \n",
        "# (0 or 1) for validation set.\n",
        "log_pred = log_reg.predict(valid_X)\n",
        "\n",
        "# Predict multiple predictors logistic model's probabilities \n",
        "# p(0) and p(1) for validation set.\n",
        "log_prob = np.round(log_reg.predict_proba(valid_X), decimals=4)\n",
        "\n",
        "# Create data frame to show multiple predictors logistic\n",
        "# model resuts for validation set. \n",
        "log_result = pd.DataFrame({'Actual': valid_y, \n",
        "                    'Classification': log_pred,\n",
        "                    'p(0)': [p[0] for p in log_prob],\n",
        "                    'p(1)': [p[1] for p in log_prob]\n",
        "})\n",
        "\n",
        "print('Classification for Validation Partition')\n",
        "print(log_result.head(20))"
      ],
      "id": "74c51dc4"
    },
    {
      "cell_type": "code",
      "execution_count": null,
      "metadata": {
        "colab": {
          "base_uri": "https://localhost:8080/"
        },
        "id": "2b7b7382",
        "outputId": "df28e7fc-f15a-4e83-a315-669049d84f34",
        "scrolled": true
      },
      "outputs": [
        {
          "name": "stdout",
          "output_type": "stream",
          "text": [
            "Training Partition\n",
            "Confusion Matrix (Accuracy 0.9990)\n",
            "\n",
            "       Prediction\n",
            "Actual      0      1\n",
            "     0 198200     60\n",
            "     1    133    215\n",
            "\n",
            "Validation Partition\n",
            "Confusion Matrix (Accuracy 0.9991)\n",
            "\n",
            "       Prediction\n",
            "Actual     0     1\n",
            "     0 84975    18\n",
            "     1    61    64\n"
          ]
        }
      ],
      "source": [
        "# Confusion matrices for multiple predictors logistic model. \n",
        "\n",
        "# Identify and display confusion matrix for training partition. \n",
        "print('Training Partition')\n",
        "classificationSummary(train_y, log_reg.predict(train_X))\n",
        " \n",
        "print()\n",
        "print('Validation Partition')\n",
        "classificationSummary(valid_y, log_reg.predict(valid_X))"
      ],
      "id": "2b7b7382"
    },
    {
      "cell_type": "code",
      "execution_count": null,
      "metadata": {
        "colab": {
          "background_save": true
        },
        "id": "xRnWW3eBDvyU",
        "outputId": "b1b06ab6-ff25-4e30-dbf8-6a572c8c4c00"
      },
      "outputs": [
        {
          "name": "stdout",
          "output_type": "stream",
          "text": [
            "The accuracy is 0.999071876688832\n",
            "The precision is 0.7804878048780488\n",
            "The recall is 0.512\n",
            "The F1 score is 0.6183574879227053\n"
          ]
        }
      ],
      "source": [
        "print(\"The accuracy is\", accuracy_score(valid_y, log_pred)) \n",
        "print(\"The precision is\", precision_score(valid_y, log_pred))\n",
        "print(\"The recall is\", recall_score(valid_y, log_pred))\n",
        "print(\"The F1 score is\", f1_score(valid_y, log_pred))"
      ],
      "id": "xRnWW3eBDvyU"
    },
    {
      "cell_type": "code",
      "execution_count": null,
      "metadata": {
        "colab": {
          "base_uri": "https://localhost:8080/",
          "height": 310
        },
        "id": "f408b3a7",
        "outputId": "da02f067-c2e2-4281-c622-2fdf362fd7ce"
      },
      "outputs": [
        {
          "data": {
            "image/png": "[encoded data removed]",
            "text/plain": [
              "<Figure size 432x288 with 1 Axes>"
            ]
          },
          "metadata": {},
          "output_type": "display_data"
        }
      ],
      "source": [
        "from sklearn.metrics import confusion_matrix\n",
        "\n",
        "class_names = ['valid', 'fraud']\n",
        "matrix = confusion_matrix(valid_y, log_pred)\n",
        "# Create pandas dataframe\n",
        "dataframe = pd.DataFrame(matrix, index=class_names, columns=class_names)\n",
        "# Create heatmap\n",
        "sns.heatmap(dataframe, annot=True, cbar=None, cmap=\"Blues\", fmt = 'g')\n",
        "plt.title(\"Confusion Matrix\"), plt.tight_layout()\n",
        "plt.ylabel(\"True Class\"), plt.xlabel(\"Predicted Class\")\n",
        "plt.show()"
      ],
      "id": "f408b3a7"
    },
    {
      "cell_type": "markdown",
      "metadata": {
        "id": "9d474d92"
      },
      "source": [
        "### Random Forest"
      ],
      "id": "9d474d92"
    },
    {
      "cell_type": "code",
      "execution_count": null,
      "metadata": {
        "id": "5c9b7557",
        "colab": {
          "base_uri": "https://localhost:8080/"
        },
        "outputId": "e15e31fc-151d-4d31-f5f9-962b6858af3c"
      },
      "outputs": [
        {
          "metadata": {
            "tags": null
          },
          "name": "stdout",
          "output_type": "stream",
          "text": [
            "The accuracy is 0.999530064146244\n",
            "The precision is 0.956989247311828\n",
            "The recall is 0.712\n",
            "The F1 score is 0.81651376146789\n"
          ]
        }
      ],
      "source": [
        "#Fit and predict\n",
        "randomForest = RandomForestClassifier() \n",
        "randomForest.fit(train_X, train_y) \n",
        "random_pred = randomForest.predict(valid_X)\n",
        "\n",
        "  \n",
        "print(\"The accuracy is\", accuracy_score(valid_y, random_pred)) \n",
        "print(\"The precision is\", precision_score(valid_y, random_pred))\n",
        "print(\"The recall is\", recall_score(valid_y, random_pred))\n",
        "print(\"The F1 score is\", f1_score(valid_y, random_pred))"
      ],
      "id": "5c9b7557"
    },
    {
      "cell_type": "code",
      "execution_count": null,
      "metadata": {
        "colab": {
          "base_uri": "https://localhost:8080/"
        },
        "id": "33931de0",
        "outputId": "4d683fa6-b646-40ef-dcae-f1be5b5045c3"
      },
      "outputs": [
        {
          "data": {
            "text/plain": [
              "array([[84989,     4],\n",
              "       [   35,    90]])"
            ]
          },
          "execution_count": 47,
          "metadata": {},
          "output_type": "execute_result"
        }
      ],
      "source": [
        "# View confusion matrix for test data and predictions\n",
        "confusion_matrix(valid_y, random_pred)"
      ],
      "id": "33931de0"
    },
    {
      "cell_type": "code",
      "execution_count": null,
      "metadata": {
        "colab": {
          "base_uri": "https://localhost:8080/",
          "height": 310
        },
        "id": "6c523bcc",
        "outputId": "ff108011-e571-47fe-9edf-51b2de712db8"
      },
      "outputs": [
        {
          "data": {
            "image/png": "[encoded data removed]",
            "text/plain": [
              "<Figure size 432x288 with 1 Axes>"
            ]
          },
          "metadata": {},
          "output_type": "display_data"
        }
      ],
      "source": [
        "class_names = ['valid', 'fraud']\n",
        "matrix = confusion_matrix(valid_y, random_pred)\n",
        "# Create pandas dataframe\n",
        "dataframe = pd.DataFrame(matrix, index=class_names, columns=class_names)\n",
        "# Create heatmap\n",
        "sns.heatmap(dataframe, annot=True, cbar=None, cmap=\"Blues\", fmt = 'g')\n",
        "plt.title(\"Confusion Matrix\"), plt.tight_layout()\n",
        "plt.ylabel(\"True Class\"), plt.xlabel(\"Predicted Class\")\n",
        "plt.show()"
      ],
      "id": "6c523bcc"
    },
    {
      "cell_type": "markdown",
      "metadata": {
        "id": "65ff8374"
      },
      "source": [
        "### XGBoost"
      ],
      "id": "65ff8374"
    },
    {
      "cell_type": "code",
      "execution_count": null,
      "metadata": {
        "id": "c5cdbaa9"
      },
      "outputs": [],
      "source": [
        "import xgboost\n",
        "from xgboost import XGBClassifier"
      ],
      "id": "c5cdbaa9"
    },
    {
      "cell_type": "code",
      "execution_count": null,
      "metadata": {
        "colab": {
          "base_uri": "https://localhost:8080/"
        },
        "id": "52c9e97d",
        "outputId": "6fcd9268-96e8-42e7-82f8-d354e218f02f"
      },
      "outputs": [
        {
          "data": {
            "text/plain": [
              "XGBClassifier()"
            ]
          },
          "execution_count": 52,
          "metadata": {},
          "output_type": "execute_result"
        }
      ],
      "source": [
        "xgb = XGBClassifier()\n",
        "xgb.fit(train_X , train_y)"
      ],
      "id": "52c9e97d"
    },
    {
      "cell_type": "code",
      "execution_count": null,
      "metadata": {
        "colab": {
          "base_uri": "https://localhost:8080/"
        },
        "id": "58c56dcf",
        "outputId": "e5d1766d-f926-474c-a138-e3c95b450c12"
      },
      "outputs": [
        {
          "data": {
            "text/plain": [
              "array([[84985,     8],\n",
              "       [   33,    92]])"
            ]
          },
          "execution_count": 53,
          "metadata": {},
          "output_type": "execute_result"
        }
      ],
      "source": [
        "xgb_preds=xgb.predict(valid_X)\n",
        "confusion_matrix(valid_y,xgb_preds)"
      ],
      "id": "58c56dcf"
    },
    {
      "cell_type": "code",
      "execution_count": null,
      "metadata": {
        "colab": {
          "base_uri": "https://localhost:8080/",
          "height": 310
        },
        "id": "bdab6669",
        "outputId": "1e01d022-69ba-4b5e-b79d-a3365dcc8fe8"
      },
      "outputs": [
        {
          "data": {
            "image/png": "[encoded data removed]",
            "text/plain": [
              "<Figure size 432x288 with 1 Axes>"
            ]
          },
          "metadata": {},
          "output_type": "display_data"
        }
      ],
      "source": [
        "class_names = ['valid', 'fraud']\n",
        "matrix = confusion_matrix(valid_y, xgb_preds)\n",
        "# Create pandas dataframe\n",
        "dataframe = pd.DataFrame(matrix, index=class_names, columns=class_names)\n",
        "# Create heatmap\n",
        "sns.heatmap(dataframe, annot=True, cbar=None, cmap=\"Blues\", fmt = 'g')\n",
        "plt.title(\"Confusion Matrix\"), plt.tight_layout()\n",
        "plt.ylabel(\"True Class\"), plt.xlabel(\"Predicted Class\")\n",
        "plt.show()"
      ],
      "id": "bdab6669"
    },
    {
      "cell_type": "code",
      "execution_count": null,
      "metadata": {
        "colab": {
          "base_uri": "https://localhost:8080/"
        },
        "id": "c464f732",
        "outputId": "01254eef-ed30-4ddd-cf7f-af0b250e1c28"
      },
      "outputs": [
        {
          "name": "stdout",
          "output_type": "stream",
          "text": [
            "The accuracy is 0.9995183157499001\n",
            "The precision is 0.92\n",
            "The recall is 0.736\n",
            "The F1 score is 0.8177777777777778\n"
          ]
        }
      ],
      "source": [
        "print(\"The accuracy is\", accuracy_score(valid_y, xgb_preds)) \n",
        "print(\"The precision is\", precision_score(valid_y, xgb_preds))\n",
        "print(\"The recall is\", recall_score(valid_y, xgb_preds))\n",
        "print(\"The F1 score is\", f1_score(valid_y, xgb_preds))"
      ],
      "id": "c464f732"
    },
    {
      "cell_type": "markdown",
      "metadata": {
        "id": "28c5b50e"
      },
      "source": [
        "### KNN"
      ],
      "id": "28c5b50e"
    },
    {
      "cell_type": "code",
      "execution_count": null,
      "metadata": {
        "id": "a4969347"
      },
      "outputs": [],
      "source": [
        "from sklearn.neighbors import KNeighborsClassifier\n"
      ],
      "id": "a4969347"
    },
    {
      "cell_type": "code",
      "execution_count": null,
      "metadata": {
        "colab": {
          "base_uri": "https://localhost:8080/"
        },
        "id": "05ce4178",
        "outputId": "f4310b2b-192e-4a65-ec55-8d21383401fa"
      },
      "outputs": [
        {
          "data": {
            "text/plain": [
              "KNeighborsClassifier(n_neighbors=7)"
            ]
          },
          "execution_count": 57,
          "metadata": {},
          "output_type": "execute_result"
        }
      ],
      "source": [
        "knn = KNeighborsClassifier(n_neighbors=7)\n",
        "knn.fit(train_X, train_y)"
      ],
      "id": "05ce4178"
    },
    {
      "cell_type": "code",
      "execution_count": null,
      "metadata": {
        "colab": {
          "base_uri": "https://localhost:8080/"
        },
        "id": "d47989d8",
        "outputId": "87d5f6b3-b0ff-4425-c55f-c7a044a2ec2a"
      },
      "outputs": [
        {
          "data": {
            "text/plain": [
              "array([[84993,     0],\n",
              "       [  124,     1]])"
            ]
          },
          "execution_count": 58,
          "metadata": {},
          "output_type": "execute_result"
        }
      ],
      "source": [
        "knn_pred=knn.predict(valid_X)\n",
        "confusion_matrix(valid_y,knn_pred)"
      ],
      "id": "d47989d8"
    },
    {
      "cell_type": "code",
      "execution_count": null,
      "metadata": {
        "colab": {
          "base_uri": "https://localhost:8080/",
          "height": 310
        },
        "id": "0f0e515f",
        "outputId": "50637919-7c4e-4333-ab6e-d31e1f19f183"
      },
      "outputs": [
        {
          "data": {
            "image/png": "[encoded data removed]",
            "text/plain": [
              "<Figure size 432x288 with 1 Axes>"
            ]
          },
          "metadata": {},
          "output_type": "display_data"
        }
      ],
      "source": [
        "class_names = ['valid', 'fraud']\n",
        "matrix = confusion_matrix(valid_y, knn_pred)\n",
        "# Create pandas dataframe\n",
        "dataframe = pd.DataFrame(matrix, index=class_names, columns=class_names)\n",
        "# Create heatmap\n",
        "sns.heatmap(dataframe, annot=True, cbar=None, cmap=\"Blues\", fmt = 'g')\n",
        "plt.title(\"Confusion Matrix\"), plt.tight_layout()\n",
        "plt.ylabel(\"True Class\"), plt.xlabel(\"Predicted Class\")\n",
        "plt.show()"
      ],
      "id": "0f0e515f"
    },
    {
      "cell_type": "code",
      "execution_count": null,
      "metadata": {
        "colab": {
          "base_uri": "https://localhost:8080/"
        },
        "id": "4a6f472c",
        "outputId": "80abc53e-f147-440e-a76f-09ff330495ef"
      },
      "outputs": [
        {
          "name": "stdout",
          "output_type": "stream",
          "text": [
            "The accuracy is 0.9985431988533565\n",
            "The precision is 1.0\n",
            "The recall is 0.008\n",
            "The F1 score is 0.015873015873015872\n"
          ]
        }
      ],
      "source": [
        "print(\"The accuracy is\", accuracy_score(valid_y, knn_pred)) \n",
        "print(\"The precision is\", precision_score(valid_y, knn_pred))\n",
        "print(\"The recall is\", recall_score(valid_y, knn_pred))\n",
        "print(\"The F1 score is\", f1_score(valid_y, knn_pred))"
      ],
      "id": "4a6f472c"
    },
    {
      "cell_type": "markdown",
      "metadata": {
        "id": "86a1e8a1"
      },
      "source": [
        "### Artificial Neural Network"
      ],
      "id": "86a1e8a1"
    },
    {
      "cell_type": "code",
      "execution_count": null,
      "metadata": {
        "id": "6c0669e3"
      },
      "outputs": [],
      "source": [
        "from sklearn.preprocessing import StandardScaler\n",
        "sc = StandardScaler()\n",
        "X_train = sc.fit_transform(train_X)\n",
        "X_test = sc.transform(valid_X)"
      ],
      "id": "6c0669e3"
    },
    {
      "cell_type": "code",
      "execution_count": null,
      "metadata": {
        "id": "733b1d21",
        "scrolled": true
      },
      "outputs": [],
      "source": [
        "import tensorflow as tf\n",
        "from tensorflow import keras\n",
        "from keras.models import Sequential\n",
        "from keras.layers import Dense"
      ],
      "id": "733b1d21"
    },
    {
      "cell_type": "code",
      "execution_count": null,
      "metadata": {
        "id": "5552fee3"
      },
      "outputs": [],
      "source": [
        "# Initializing the ANN\n",
        "model = Sequential()"
      ],
      "id": "5552fee3"
    },
    {
      "cell_type": "code",
      "execution_count": null,
      "metadata": {
        "id": "715b86f9"
      },
      "outputs": [],
      "source": [
        "# Adding the input layer and first Hidden Layer\n",
        "model.add(Dense(activation = \"relu\", input_dim = 30, units = 6, kernel_initializer='uniform' ))\n",
        "\n",
        "# Adding the Second hidden layer\n",
        "model.add(Dense(activation = \"relu\", units =20, kernel_initializer='uniform'))\n",
        "\n",
        "# Adding the third hidden layer\n",
        "model.add(Dense(activation = \"relu\", units = 10, kernel_initializer='uniform'))\n",
        "\n",
        "# Addinng the output Layer\n",
        "model.add(Dense(activation = 'sigmoid', units =1, kernel_initializer='uniform',))"
      ],
      "id": "715b86f9"
    },
    {
      "cell_type": "code",
      "execution_count": null,
      "metadata": {
        "colab": {
          "base_uri": "https://localhost:8080/"
        },
        "id": "e626e2c9",
        "outputId": "787a2332-d9a9-4257-9ea6-f52c74e7c196"
      },
      "outputs": [
        {
          "name": "stdout",
          "output_type": "stream",
          "text": [
            "Model: \"sequential\"\n",
            "_________________________________________________________________\n",
            " Layer (type)                Output Shape              Param #   \n",
            "=================================================================\n",
            " dense (Dense)               (None, 6)                 186       \n",
            "                                                                 \n",
            " dense_1 (Dense)             (None, 20)                140       \n",
            "                                                                 \n",
            " dense_2 (Dense)             (None, 10)                210       \n",
            "                                                                 \n",
            " dense_3 (Dense)             (None, 1)                 11        \n",
            "                                                                 \n",
            "=================================================================\n",
            "Total params: 547\n",
            "Trainable params: 547\n",
            "Non-trainable params: 0\n",
            "_________________________________________________________________\n"
          ]
        }
      ],
      "source": [
        "model.summary()\n"
      ],
      "id": "e626e2c9"
    },
    {
      "cell_type": "code",
      "execution_count": null,
      "metadata": {
        "id": "faa012dd"
      },
      "outputs": [],
      "source": [
        "# compiling the ANN\n",
        "model.compile(optimizer='adam', loss= 'binary_crossentropy', metrics= ['accuracy'])"
      ],
      "id": "faa012dd"
    },
    {
      "cell_type": "code",
      "execution_count": null,
      "metadata": {
        "colab": {
          "base_uri": "https://localhost:8080/"
        },
        "id": "9b108020",
        "outputId": "58d692d5-db20-4f01-d633-d71d61e07da8"
      },
      "outputs": [
        {
          "name": "stdout",
          "output_type": "stream",
          "text": [
            "Epoch 1/10\n",
            "1987/1987 [==============================] - 14s 6ms/step - loss: 0.0389 - accuracy: 0.9948\n",
            "Epoch 2/10\n",
            "1987/1987 [==============================] - 9s 5ms/step - loss: 0.0205 - accuracy: 0.9982\n",
            "Epoch 3/10\n",
            "1987/1987 [==============================] - 5s 2ms/step - loss: 0.0142 - accuracy: 0.9982\n",
            "Epoch 4/10\n",
            "1987/1987 [==============================] - 5s 2ms/step - loss: 0.0135 - accuracy: 0.9982\n",
            "Epoch 5/10\n",
            "1987/1987 [==============================] - 5s 2ms/step - loss: 0.0131 - accuracy: 0.9982\n",
            "Epoch 6/10\n",
            "1987/1987 [==============================] - 5s 2ms/step - loss: 0.0129 - accuracy: 0.9982\n",
            "Epoch 7/10\n",
            "1987/1987 [==============================] - 5s 2ms/step - loss: 0.0129 - accuracy: 0.9982\n",
            "Epoch 8/10\n",
            "1987/1987 [==============================] - 5s 2ms/step - loss: 0.0129 - accuracy: 0.9982\n",
            "Epoch 9/10\n",
            "1987/1987 [==============================] - 5s 2ms/step - loss: 0.0129 - accuracy: 0.9982\n",
            "Epoch 10/10\n",
            "1987/1987 [==============================] - 4s 2ms/step - loss: 0.0130 - accuracy: 0.9982\n"
          ]
        },
        {
          "data": {
            "text/plain": [
              "<keras.callbacks.History at 0x7f383b281210>"
            ]
          },
          "execution_count": 68,
          "metadata": {},
          "output_type": "execute_result"
        }
      ],
      "source": [
        "# Fitting the ANN to the training set\n",
        "model.fit(train_X, train_y, batch_size = 100, epochs =10)"
      ],
      "id": "9b108020"
    },
    {
      "cell_type": "code",
      "execution_count": null,
      "metadata": {
        "colab": {
          "base_uri": "https://localhost:8080/"
        },
        "id": "b3711c0d",
        "outputId": "32f2106e-8771-48a6-8d47-3dae051c9e4e"
      },
      "outputs": [
        {
          "name": "stdout",
          "output_type": "stream",
          "text": [
            "2660/2660 [==============================] - 4s 1ms/step\n"
          ]
        }
      ],
      "source": [
        "# Making the Prediction and Evaluating the model\n",
        "# Predicting the Test set result\n",
        "y_ann_pred = model.predict(valid_X)\n",
        "y_ann_pred = (y_pred>0.5)"
      ],
      "id": "b3711c0d"
    },
    {
      "cell_type": "code",
      "execution_count": null,
      "metadata": {
        "colab": {
          "base_uri": "https://localhost:8080/"
        },
        "id": "QRePmMHQBe6S",
        "outputId": "fd235970-473e-4bc5-92a7-94e9026cc7e1"
      },
      "outputs": [
        {
          "name": "stdout",
          "output_type": "stream",
          "text": [
            "The accuracy is 0.9995418125425879\n",
            "The precision is 0.9574468085106383\n",
            "The recall is 0.72\n",
            "The F1 score is 0.8219178082191781\n"
          ]
        }
      ],
      "source": [
        "print(\"The accuracy is\", accuracy_score(valid_y, y_ann_pred)) \n",
        "print(\"The precision is\", precision_score(valid_y, y_ann_pred))\n",
        "print(\"The recall is\", recall_score(valid_y, y_ann_pred))\n",
        "print(\"The F1 score is\", f1_score(valid_y, y_ann_pred))"
      ],
      "id": "QRePmMHQBe6S"
    },
    {
      "cell_type": "code",
      "execution_count": null,
      "metadata": {
        "colab": {
          "base_uri": "https://localhost:8080/"
        },
        "id": "70d06ef0",
        "outputId": "032bc66c-ad33-4600-a2e7-1345b22045df"
      },
      "outputs": [
        {
          "name": "stdout",
          "output_type": "stream",
          "text": [
            "Accuracy Score :  0.9995418125425879\n",
            "Confusion Matrix:  [[84989    35]\n",
            " [    4    90]]\n"
          ]
        }
      ],
      "source": [
        "from sklearn.metrics import accuracy_score, confusion_matrix\n",
        "print(\"Accuracy Score : \", accuracy_score(valid_y, y_ann_pred))\n",
        "print(\"Confusion Matrix: \", confusion_matrix(y_ann_pred, valid_y))"
      ],
      "id": "70d06ef0"
    },
    {
      "cell_type": "code",
      "execution_count": null,
      "metadata": {
        "colab": {
          "base_uri": "https://localhost:8080/",
          "height": 310
        },
        "id": "0c1d3b45",
        "outputId": "fd5ecbd2-9b82-4748-a059-bf73e839f510"
      },
      "outputs": [
        {
          "data": {
            "image/png": "[encoded data removed]",
            "text/plain": [
              "<Figure size 432x288 with 1 Axes>"
            ]
          },
          "metadata": {},
          "output_type": "display_data"
        }
      ],
      "source": [
        "class_names = ['valid', 'fraud']\n",
        "matrix = confusion_matrix(valid_y, y_ann_pred)\n",
        "# Create pandas dataframe\n",
        "dataframe = pd.DataFrame(matrix, index=class_names, columns=class_names)\n",
        "# Create heatmap\n",
        "sns.heatmap(dataframe, annot=True, cbar=None, cmap=\"Blues\", fmt = 'g')\n",
        "plt.title(\"Confusion Matrix\"), plt.tight_layout()\n",
        "plt.ylabel(\"True Class\"), plt.xlabel(\"Predicted Class\")\n",
        "plt.show()"
      ],
      "id": "0c1d3b45"
    },
    {
      "cell_type": "markdown",
      "metadata": {
        "id": "dc305c64"
      },
      "source": [
        "### Isolation Forest and Local Outlier Factor Methods"
      ],
      "id": "dc305c64"
    },
    {
      "cell_type": "code",
      "execution_count": null,
      "metadata": {
        "id": "729be746"
      },
      "outputs": [],
      "source": [
        "from sklearn.ensemble import IsolationForest\n",
        "from sklearn.neighbors import LocalOutlierFactor"
      ],
      "id": "729be746"
    },
    {
      "cell_type": "code",
      "execution_count": null,
      "metadata": {
        "id": "89c41f27"
      },
      "outputs": [],
      "source": [
        "# Get all the columns from the dataFrame\n",
        "columns = df.columns.tolist()\n",
        "\n",
        "# Filter the columns to remove data we do not want\n",
        "columns = [c for c in columns if c not in [\"Class\"]]\n",
        "\n",
        "# Store the variable we'll be predicting on\n",
        "target = \"Class\"\n",
        "\n",
        "X = df[columns]\n",
        "Y = df[target]\n"
      ],
      "id": "89c41f27"
    },
    {
      "cell_type": "code",
      "execution_count": null,
      "metadata": {
        "id": "7ba728cd"
      },
      "outputs": [],
      "source": [
        "\n",
        "from sklearn.metrics import classification_report, accuracy_score\n",
        "from sklearn.ensemble import IsolationForest\n",
        "from sklearn.neighbors import LocalOutlierFactor\n",
        "\n",
        "# define random states\n",
        "state = 1\n",
        "\n",
        "# define outlier detection tools to be compared\n",
        "classifiers = {\n",
        "    \"Isolation Forest\": IsolationForest(max_samples=len(X),\n",
        "                                        contamination=outlier_fraction,\n",
        "                                        random_state=state),\n",
        "    \"Local Outlier Factor\": LocalOutlierFactor(\n",
        "        n_neighbors=20,\n",
        "        contamination=outlier_fraction)}"
      ],
      "id": "7ba728cd"
    },
    {
      "cell_type": "code",
      "execution_count": null,
      "metadata": {
        "colab": {
          "base_uri": "https://localhost:8080/",
          "height": 571
        },
        "id": "eb8014c4",
        "outputId": "5c13c88e-fb9d-4aad-e6a1-7dca82b639fa"
      },
      "outputs": [
        {
          "output_type": "stream",
          "name": "stdout",
          "text": [
            "Isolation Forest: 668\n",
            "Accuracy score:  0.9976456158406349\n",
            "Classification summmary:                precision    recall  f1-score   support\n",
            "\n",
            "           0       1.00      1.00      1.00    283253\n",
            "           1       0.30      0.31      0.31       473\n",
            "\n",
            "    accuracy                           1.00    283726\n",
            "   macro avg       0.65      0.66      0.65    283726\n",
            "weighted avg       1.00      1.00      1.00    283726\n",
            "\n",
            "The accuracy is 0.9976456158406349\n",
            "The precision is 0.3014256619144603\n",
            "The recall is 0.3128964059196617\n",
            "The F1 score is 0.3070539419087137\n",
            "Local Outlier Factor: 924\n",
            "Accuracy score:  0.9967433368813574\n",
            "Classification summmary:                precision    recall  f1-score   support\n",
            "\n",
            "           0       1.00      1.00      1.00    283253\n",
            "           1       0.04      0.04      0.04       473\n",
            "\n",
            "    accuracy                           1.00    283726\n",
            "   macro avg       0.52      0.52      0.52    283726\n",
            "weighted avg       1.00      1.00      1.00    283726\n",
            "\n",
            "The accuracy is 0.9967433368813574\n",
            "The precision is 0.04073319755600815\n",
            "The recall is 0.042283298097251586\n",
            "The F1 score is 0.041493775933609964\n"
          ]
        },
        {
          "output_type": "display_data",
          "data": {
            "text/plain": [
              "<Figure size 648x504 with 0 Axes>"
            ]
          },
          "metadata": {}
        }
      ],
      "source": [
        "# Fit the model\n",
        "plt.figure(figsize=(9, 7))\n",
        "num_outliers = len(Fraud)\n",
        "\n",
        "\n",
        "for i, (name, clf) in enumerate(classifiers.items()):\n",
        "    \n",
        "    # fit the data and tag outliers\n",
        "    if name == \"Local Outlier Factor\":\n",
        "        y_pred = clf.fit_predict(X)\n",
        "        temp_pred = clf.negative_outlier_factor_\n",
        "    else:\n",
        "        clf.fit(X)\n",
        "        temp_pred = clf.decision_function(X)\n",
        "        y_pred = clf.predict(X)\n",
        "    \n",
        "    # Reshape the prediction values to 0 for valid, 1 for fraud. \n",
        "    y_pred[y_pred == 1] = 0\n",
        "    y_pred[y_pred == -1] = 1\n",
        "    \n",
        "    count_errors = (y_pred != Y).sum()\n",
        "    \n",
        "    # Run classification metrics\n",
        "    print('{}: {}'.format(name, count_errors))\n",
        "    print(\"Accuracy score: \", accuracy_score(Y, y_pred))\n",
        "    print(\"Classification summmary: \", classification_report(Y, y_pred))\n",
        "    print(\"The accuracy is\", accuracy_score(Y, y_pred))\n",
        "    print(\"The precision is\", precision_score(Y, y_pred))\n",
        "    print(\"The recall is\", recall_score(Y, y_pred))\n",
        "    print(\"The F1 score is\", f1_score(Y, y_pred))"
      ],
      "id": "eb8014c4"
    },
    {
      "cell_type": "markdown",
      "metadata": {
        "id": "9rqYW4IW5rkO"
      },
      "source": [
        "Model Comparison"
      ],
      "id": "9rqYW4IW5rkO"
    },
    {
      "cell_type": "code",
      "execution_count": null,
      "metadata": {
        "id": "gwY2CCiZ-DJJ"
      },
      "outputs": [],
      "source": [
        "model_comparison={}\n",
        "model_comparison['LogisticRegression']=[accuracy_score(valid_y, log_pred), precision_score(valid_y, log_pred), \n",
        "                                        recall_score(valid_y, log_pred),f1_score(valid_y, log_pred)]\n",
        "\n",
        "model_comparison['RandomForest']=[accuracy_score(valid_y, random_pred), precision_score(valid_y, random_pred), \n",
        "                                  recall_score(valid_y, random_pred),f1_score(valid_y, random_pred)]\n",
        "\n",
        "model_comparison['XGBoost']=[accuracy_score(valid_y, xgb_preds), precision_score(valid_y, xgb_preds), \n",
        "                             recall_score(valid_y, xgb_preds),f1_score(valid_y, xgb_preds)]\n",
        "\n",
        "model_comparison['KNN']=[accuracy_score(valid_y, knn_pred), precision_score(valid_y, knn_pred), \n",
        "                         recall_score(valid_y, knn_pred),f1_score(valid_y, knn_pred)]\n",
        "\n",
        "model_comparison['ArtficialNeuralNetwork']=[accuracy_score(valid_y, y_ann_pred), precision_score(valid_y, y_ann_pred), \n",
        "                                            recall_score(valid_y, y_ann_pred),f1_score(valid_y, y_ann_pred)]\n",
        "\n",
        "#model_comparison['IsolationForest']=[accuracy_score(), precision_score(), \n",
        "                                     #recall_score(),f1_score()]\n",
        "\n",
        "#model_comparison['LocalOutlierFactor']=[accuracy_score(), precision_score(), \n",
        "                                       # recall_score(),f1_score()]\n",
        "\n",
        "\n",
        "\n",
        "\n",
        "\n"
      ],
      "id": "gwY2CCiZ-DJJ"
    },
    {
      "cell_type": "code",
      "execution_count": null,
      "metadata": {
        "id": "0YCUZ3-lHAu2",
        "colab": {
          "base_uri": "https://localhost:8080/",
          "height": 206
        },
        "outputId": "6b245722-7b08-411f-fe69-8807705eaa0c"
      },
      "outputs": [
        {
          "output_type": "execute_result",
          "data": {
            "text/plain": [
              "<pandas.io.formats.style.Styler at 0x7f383aa8e710>"
            ],
            "text/html": [
              "<style type=\"text/css\">\n",
              "#T_70531_row0_col0, #T_70531_row0_col3, #T_70531_row1_col2, #T_70531_row4_col1 {\n",
              "  background-color: #67000d;\n",
              "  color: #f1f1f1;\n",
              "}\n",
              "#T_70531_row0_col1 {\n",
              "  background-color: #b91419;\n",
              "  color: #f1f1f1;\n",
              "}\n",
              "#T_70531_row0_col2 {\n",
              "  background-color: #71020e;\n",
              "  color: #f1f1f1;\n",
              "}\n",
              "#T_70531_row1_col0 {\n",
              "  background-color: #73030f;\n",
              "  color: #f1f1f1;\n",
              "}\n",
              "#T_70531_row1_col1 {\n",
              "  background-color: #ec382b;\n",
              "  color: #f1f1f1;\n",
              "}\n",
              "#T_70531_row1_col3, #T_70531_row2_col3 {\n",
              "  background-color: #69000d;\n",
              "  color: #f1f1f1;\n",
              "}\n",
              "#T_70531_row2_col0 {\n",
              "  background-color: #6d010e;\n",
              "  color: #f1f1f1;\n",
              "}\n",
              "#T_70531_row2_col1 {\n",
              "  background-color: #bb141a;\n",
              "  color: #f1f1f1;\n",
              "}\n",
              "#T_70531_row2_col2 {\n",
              "  background-color: #77040f;\n",
              "  color: #f1f1f1;\n",
              "}\n",
              "#T_70531_row3_col0 {\n",
              "  background-color: #f85f43;\n",
              "  color: #f1f1f1;\n",
              "}\n",
              "#T_70531_row3_col1, #T_70531_row4_col0, #T_70531_row4_col2, #T_70531_row4_col3 {\n",
              "  background-color: #fff5f0;\n",
              "  color: #000000;\n",
              "}\n",
              "#T_70531_row3_col2 {\n",
              "  background-color: #db2824;\n",
              "  color: #f1f1f1;\n",
              "}\n",
              "#T_70531_row3_col3 {\n",
              "  background-color: #cb181d;\n",
              "  color: #f1f1f1;\n",
              "}\n",
              "</style>\n",
              "<table id=\"T_70531_\" class=\"dataframe\">\n",
              "  <thead>\n",
              "    <tr>\n",
              "      <th class=\"blank level0\" >&nbsp;</th>\n",
              "      <th class=\"col_heading level0 col0\" >Model Accuracy</th>\n",
              "      <th class=\"col_heading level0 col1\" >Precision</th>\n",
              "      <th class=\"col_heading level0 col2\" >Recall </th>\n",
              "      <th class=\"col_heading level0 col3\" >Model F1-Score</th>\n",
              "    </tr>\n",
              "  </thead>\n",
              "  <tbody>\n",
              "    <tr>\n",
              "      <th id=\"T_70531_level0_row0\" class=\"row_heading level0 row0\" >ArtficialNeuralNetwork</th>\n",
              "      <td id=\"T_70531_row0_col0\" class=\"data row0 col0\" >99.95%</td>\n",
              "      <td id=\"T_70531_row0_col1\" class=\"data row0 col1\" >95.74%</td>\n",
              "      <td id=\"T_70531_row0_col2\" class=\"data row0 col2\" >72.00%</td>\n",
              "      <td id=\"T_70531_row0_col3\" class=\"data row0 col3\" >82.19%</td>\n",
              "    </tr>\n",
              "    <tr>\n",
              "      <th id=\"T_70531_level0_row1\" class=\"row_heading level0 row1\" >XGBoost</th>\n",
              "      <td id=\"T_70531_row1_col0\" class=\"data row1 col0\" >99.95%</td>\n",
              "      <td id=\"T_70531_row1_col1\" class=\"data row1 col1\" >92.00%</td>\n",
              "      <td id=\"T_70531_row1_col2\" class=\"data row1 col2\" >73.60%</td>\n",
              "      <td id=\"T_70531_row1_col3\" class=\"data row1 col3\" >81.78%</td>\n",
              "    </tr>\n",
              "    <tr>\n",
              "      <th id=\"T_70531_level0_row2\" class=\"row_heading level0 row2\" >RandomForest</th>\n",
              "      <td id=\"T_70531_row2_col0\" class=\"data row2 col0\" >99.95%</td>\n",
              "      <td id=\"T_70531_row2_col1\" class=\"data row2 col1\" >95.70%</td>\n",
              "      <td id=\"T_70531_row2_col2\" class=\"data row2 col2\" >71.20%</td>\n",
              "      <td id=\"T_70531_row2_col3\" class=\"data row2 col3\" >81.65%</td>\n",
              "    </tr>\n",
              "    <tr>\n",
              "      <th id=\"T_70531_level0_row3\" class=\"row_heading level0 row3\" >LogisticRegression</th>\n",
              "      <td id=\"T_70531_row3_col0\" class=\"data row3 col0\" >99.91%</td>\n",
              "      <td id=\"T_70531_row3_col1\" class=\"data row3 col1\" >78.05%</td>\n",
              "      <td id=\"T_70531_row3_col2\" class=\"data row3 col2\" >51.20%</td>\n",
              "      <td id=\"T_70531_row3_col3\" class=\"data row3 col3\" >61.84%</td>\n",
              "    </tr>\n",
              "    <tr>\n",
              "      <th id=\"T_70531_level0_row4\" class=\"row_heading level0 row4\" >KNN</th>\n",
              "      <td id=\"T_70531_row4_col0\" class=\"data row4 col0\" >99.85%</td>\n",
              "      <td id=\"T_70531_row4_col1\" class=\"data row4 col1\" >100.00%</td>\n",
              "      <td id=\"T_70531_row4_col2\" class=\"data row4 col2\" >0.80%</td>\n",
              "      <td id=\"T_70531_row4_col3\" class=\"data row4 col3\" >1.59%</td>\n",
              "    </tr>\n",
              "  </tbody>\n",
              "</table>\n"
            ]
          },
          "metadata": {},
          "execution_count": 94
        }
      ],
      "source": [
        "model_compare_df = pd.DataFrame(model_comparison).T\n",
        "model_compare_df.columns = ['Model Accuracy','Precision','Recall ','Model F1-Score']\n",
        "model_compare_df = model_compare_df.sort_values(by='Model F1-Score',ascending=False)\n",
        "model_compare_df.style.format(\"{:.2%}\").background_gradient(cmap='Reds')"
      ],
      "id": "0YCUZ3-lHAu2"
    }
  ],
  "metadata": {
    "colab": {
      "collapsed_sections": [
        "b23358b0",
        "5d7f5e1b",
        "f1072815",
        "818a93e3",
        "f81fabcc",
        "65ff8374",
        "28c5b50e",
        "86a1e8a1"
      ],
      "provenance": []
    },
    "kernelspec": {
      "display_name": "Python 3 (ipykernel)",
      "language": "python",
      "name": "python3"
    },
    "language_info": {
      "codemirror_mode": {
        "name": "ipython",
        "version": 3
      },
      "file_extension": ".py",
      "mimetype": "text/x-python",
      "name": "python",
      "nbconvert_exporter": "python",
      "pygments_lexer": "ipython3",
      "version": "3.9.12"
    }
  },
  "nbformat": 4,
  "nbformat_minor": 5
}